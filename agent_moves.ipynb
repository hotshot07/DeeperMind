{
 "cells": [
  {
   "cell_type": "code",
   "execution_count": 1,
   "id": "1f3b806e",
   "metadata": {},
   "outputs": [],
   "source": [
    "import pandas as pd\n",
    "import numpy as np\n",
    "from sklearn.model_selection import train_test_split\n",
    "import keras\n",
    "import random\n",
    "import csv\n",
    "import ast"
   ]
  },
  {
   "cell_type": "code",
   "execution_count": 2,
   "id": "66f28dbc",
   "metadata": {},
   "outputs": [],
   "source": [
    "df = pd.read_csv('data/demofile.csv')"
   ]
  },
  {
   "cell_type": "code",
   "execution_count": 3,
   "id": "8732d92a",
   "metadata": {},
   "outputs": [],
   "source": [
    "df[\"state\"] = df[\"state\"].apply(lambda x: ast.literal_eval(x))"
   ]
  },
  {
   "cell_type": "code",
   "execution_count": 4,
   "id": "a39aa7b7",
   "metadata": {},
   "outputs": [],
   "source": [
    "df[\"action\"] = df[\"action\"].apply(lambda x: np.array(ast.literal_eval(x)))"
   ]
  },
  {
   "cell_type": "code",
   "execution_count": 5,
   "id": "06a752bd",
   "metadata": {},
   "outputs": [],
   "source": [
    "train_data, test_data = train_test_split(df, test_size=0.2, random_state=42)"
   ]
  },
  {
   "cell_type": "code",
   "execution_count": 6,
   "id": "1ea2fc72",
   "metadata": {},
   "outputs": [],
   "source": [
    "train_data_x_label  = train_data['state']\n",
    "train_data_y_label = train_data['action']"
   ]
  },
  {
   "cell_type": "code",
   "execution_count": 7,
   "id": "7243469b",
   "metadata": {},
   "outputs": [],
   "source": [
    "train_values = []\n",
    "\n",
    "for x in train_data_x_label.values:\n",
    "    train_values.append(x)\n",
    "\n",
    "train_values = np.array(train_values)"
   ]
  },
  {
   "cell_type": "code",
   "execution_count": 8,
   "id": "ade243cb",
   "metadata": {},
   "outputs": [
    {
     "data": {
      "text/plain": [
       "(20807, 20)"
      ]
     },
     "execution_count": 8,
     "metadata": {},
     "output_type": "execute_result"
    }
   ],
   "source": [
    "train_values.shape"
   ]
  },
  {
   "cell_type": "code",
   "execution_count": 9,
   "id": "52d9d1e9",
   "metadata": {},
   "outputs": [],
   "source": [
    "train_values_y = []\n",
    "\n",
    "for x in train_data_y_label.values:\n",
    "    train_values_y.append(x)\n",
    "\n",
    "train_values_y = np.array(train_values_y)"
   ]
  },
  {
   "cell_type": "code",
   "execution_count": 10,
   "id": "f150786b",
   "metadata": {},
   "outputs": [
    {
     "data": {
      "text/plain": [
       "(20807, 5)"
      ]
     },
     "execution_count": 10,
     "metadata": {},
     "output_type": "execute_result"
    }
   ],
   "source": [
    "train_values_y.shape"
   ]
  },
  {
   "cell_type": "code",
   "execution_count": 12,
   "id": "d1c9014a",
   "metadata": {},
   "outputs": [
    {
     "name": "stdout",
     "output_type": "stream",
     "text": [
      "Epoch 1/20\n",
      " 19/651 [..............................] - ETA: 3s - loss: 1.5133 - accuracy: 0.3882"
     ]
    },
    {
     "name": "stderr",
     "output_type": "stream",
     "text": [
      "2022-04-05 23:58:54.523167: I tensorflow/core/grappler/optimizers/custom_graph_optimizer_registry.cc:113] Plugin optimizer for device_type GPU is enabled.\n"
     ]
    },
    {
     "name": "stdout",
     "output_type": "stream",
     "text": [
      "651/651 [==============================] - 4s 6ms/step - loss: 0.6732 - accuracy: 0.7584\n",
      "Epoch 2/20\n",
      "651/651 [==============================] - 4s 6ms/step - loss: 0.2263 - accuracy: 0.9201\n",
      "Epoch 3/20\n",
      "651/651 [==============================] - 4s 6ms/step - loss: 0.1240 - accuracy: 0.9591\n",
      "Epoch 4/20\n",
      "651/651 [==============================] - 4s 6ms/step - loss: 0.0799 - accuracy: 0.9751\n",
      "Epoch 5/20\n",
      "651/651 [==============================] - 4s 6ms/step - loss: 0.0495 - accuracy: 0.9877\n",
      "Epoch 6/20\n",
      "651/651 [==============================] - 4s 6ms/step - loss: 0.0330 - accuracy: 0.9913\n",
      "Epoch 7/20\n",
      "651/651 [==============================] - 4s 6ms/step - loss: 0.0229 - accuracy: 0.9940\n",
      "Epoch 8/20\n",
      "651/651 [==============================] - 4s 6ms/step - loss: 0.0160 - accuracy: 0.9961\n",
      "Epoch 9/20\n",
      "651/651 [==============================] - 4s 6ms/step - loss: 0.0112 - accuracy: 0.9979\n",
      "Epoch 10/20\n",
      "651/651 [==============================] - 4s 6ms/step - loss: 0.0081 - accuracy: 0.9989\n",
      "Epoch 11/20\n",
      "651/651 [==============================] - 4s 6ms/step - loss: 0.0063 - accuracy: 0.9988\n",
      "Epoch 12/20\n",
      "651/651 [==============================] - 4s 6ms/step - loss: 0.0045 - accuracy: 0.9991\n",
      "Epoch 13/20\n",
      "651/651 [==============================] - 4s 6ms/step - loss: 0.0038 - accuracy: 0.9990\n",
      "Epoch 14/20\n",
      "651/651 [==============================] - 4s 6ms/step - loss: 0.0032 - accuracy: 0.9994\n",
      "Epoch 15/20\n",
      "651/651 [==============================] - 4s 6ms/step - loss: 0.0027 - accuracy: 0.9993\n",
      "Epoch 16/20\n",
      "651/651 [==============================] - 4s 6ms/step - loss: 0.0021 - accuracy: 0.9996\n",
      "Epoch 17/20\n",
      "651/651 [==============================] - 4s 6ms/step - loss: 0.0018 - accuracy: 0.9996\n",
      "Epoch 18/20\n",
      "651/651 [==============================] - 4s 6ms/step - loss: 0.0017 - accuracy: 0.9997\n",
      "Epoch 19/20\n",
      "651/651 [==============================] - 4s 6ms/step - loss: 0.0015 - accuracy: 0.9997\n",
      "Epoch 20/20\n",
      "651/651 [==============================] - 4s 6ms/step - loss: 0.0016 - accuracy: 0.9997\n"
     ]
    },
    {
     "data": {
      "text/plain": [
       "<keras.callbacks.History at 0x17a6aadc0>"
      ]
     },
     "execution_count": 12,
     "metadata": {},
     "output_type": "execute_result"
    }
   ],
   "source": [
    "from tensorflow.keras.models import Sequential\n",
    "from tensorflow.keras.layers import Dense, Activation\n",
    "import tensorflow\n",
    "\n",
    "model = Sequential()\n",
    "model.add(Dense(15, input_dim=train_values.shape[1], activation='relu'))\n",
    "model.add(Dense(10, activation='relu'))\n",
    "model.add(Dense(train_values_y.shape[1], activation='softmax'))\n",
    "model.compile(loss='categorical_crossentropy', optimizer=\"adam\", metrics='accuracy')\n",
    "model.fit(train_values,train_values_y,verbose=1,epochs=20)"
   ]
  },
  {
   "cell_type": "code",
   "execution_count": 13,
   "id": "06889ec0",
   "metadata": {},
   "outputs": [
    {
     "name": "stdout",
     "output_type": "stream",
     "text": [
      "INFO:tensorflow:Assets written to: agent_moves/assets\n"
     ]
    },
    {
     "name": "stderr",
     "output_type": "stream",
     "text": [
      "2022-04-06 00:01:51.651555: W tensorflow/python/util/util.cc:368] Sets are not currently considered sequences, but this may change in the future, so consider avoiding using them.\n"
     ]
    }
   ],
   "source": [
    "model.save(\"agent_moves\")"
   ]
  },
  {
   "cell_type": "code",
   "execution_count": null,
   "id": "6c144d1d",
   "metadata": {},
   "outputs": [],
   "source": []
  }
 ],
 "metadata": {
  "interpreter": {
   "hash": "e4ea300f43ed5dc298ec7dac4e1e84827dee6c529d41bba19ebf078b2615c49c"
  },
  "kernelspec": {
   "display_name": "Python 3.9.10 ('env_tf')",
   "language": "python",
   "name": "python3"
  },
  "language_info": {
   "codemirror_mode": {
    "name": "ipython",
    "version": 3
   },
   "file_extension": ".py",
   "mimetype": "text/x-python",
   "name": "python",
   "nbconvert_exporter": "python",
   "pygments_lexer": "ipython3",
   "version": "3.9.10"
  }
 },
 "nbformat": 4,
 "nbformat_minor": 5
}
