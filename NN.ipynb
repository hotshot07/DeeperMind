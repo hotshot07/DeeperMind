{
 "cells": [
  {
   "cell_type": "code",
   "execution_count": 39,
   "id": "9e81494d",
   "metadata": {},
   "outputs": [],
   "source": [
    "import pandas as pd\n",
    "import numpy as np\n",
    "from sklearn.model_selection import train_test_split\n",
    "import keras\n",
    "import random\n",
    "import csv\n",
    "import ast"
   ]
  },
  {
   "cell_type": "code",
   "execution_count": 8,
   "id": "b119ab5e",
   "metadata": {},
   "outputs": [],
   "source": [
    "data_dict = []"
   ]
  },
  {
   "cell_type": "code",
   "execution_count": 11,
   "id": "07f91923",
   "metadata": {},
   "outputs": [],
   "source": [
    "for k in range(1000):\n",
    "    \n",
    "    dicti = {\n",
    "        \"board_state\":[random.randint(0,2) for x in range(20)],\n",
    "        \"move_chosen\":[random.randint(0,1) for x in range(5)]\n",
    "    } \n",
    "    \n",
    "    data_dict.append(dicti)"
   ]
  },
  {
   "cell_type": "code",
   "execution_count": 14,
   "id": "9bc0f650",
   "metadata": {},
   "outputs": [],
   "source": [
    "with open('data.csv', \"w\", newline=\"\") as csv_data_file:\n",
    "    csv_writer = csv.writer(csv_data_file)\n",
    "    csv_writer.writerow(data_dict[0].keys())\n",
    "\n",
    "    for data_row in data_dict:\n",
    "        csv_writer.writerow(data_row.values())"
   ]
  },
  {
   "cell_type": "code",
   "execution_count": 15,
   "id": "02738cef",
   "metadata": {},
   "outputs": [],
   "source": [
    "df = pd.read_csv('data.csv')"
   ]
  },
  {
   "cell_type": "code",
   "execution_count": 16,
   "id": "fcc1e89b",
   "metadata": {},
   "outputs": [
    {
     "data": {
      "text/html": [
       "<div>\n",
       "<style scoped>\n",
       "    .dataframe tbody tr th:only-of-type {\n",
       "        vertical-align: middle;\n",
       "    }\n",
       "\n",
       "    .dataframe tbody tr th {\n",
       "        vertical-align: top;\n",
       "    }\n",
       "\n",
       "    .dataframe thead th {\n",
       "        text-align: right;\n",
       "    }\n",
       "</style>\n",
       "<table border=\"1\" class=\"dataframe\">\n",
       "  <thead>\n",
       "    <tr style=\"text-align: right;\">\n",
       "      <th></th>\n",
       "      <th>board_state</th>\n",
       "      <th>move_chosen</th>\n",
       "    </tr>\n",
       "  </thead>\n",
       "  <tbody>\n",
       "    <tr>\n",
       "      <th>0</th>\n",
       "      <td>[1, 2, 2, 1, 2, 0, 1, 2, 1, 0, 0, 2, 2, 2, 0, ...</td>\n",
       "      <td>[1, 1, 1, 1, 1]</td>\n",
       "    </tr>\n",
       "    <tr>\n",
       "      <th>1</th>\n",
       "      <td>[2, 0, 0, 1, 0, 0, 2, 0, 1, 2, 0, 1, 1, 0, 0, ...</td>\n",
       "      <td>[1, 0, 0, 0, 1]</td>\n",
       "    </tr>\n",
       "    <tr>\n",
       "      <th>2</th>\n",
       "      <td>[1, 2, 1, 1, 2, 0, 0, 2, 1, 1, 0, 0, 1, 2, 1, ...</td>\n",
       "      <td>[0, 0, 1, 1, 0]</td>\n",
       "    </tr>\n",
       "    <tr>\n",
       "      <th>3</th>\n",
       "      <td>[1, 1, 0, 2, 0, 2, 1, 1, 2, 0, 1, 1, 1, 0, 2, ...</td>\n",
       "      <td>[1, 1, 1, 0, 1]</td>\n",
       "    </tr>\n",
       "    <tr>\n",
       "      <th>4</th>\n",
       "      <td>[0, 0, 2, 2, 1, 1, 2, 0, 1, 2, 1, 0, 0, 0, 2, ...</td>\n",
       "      <td>[0, 0, 1, 0, 1]</td>\n",
       "    </tr>\n",
       "    <tr>\n",
       "      <th>...</th>\n",
       "      <td>...</td>\n",
       "      <td>...</td>\n",
       "    </tr>\n",
       "    <tr>\n",
       "      <th>995</th>\n",
       "      <td>[2, 0, 0, 0, 0, 0, 1, 1, 0, 2, 2, 1, 2, 2, 0, ...</td>\n",
       "      <td>[1, 0, 1, 1, 1]</td>\n",
       "    </tr>\n",
       "    <tr>\n",
       "      <th>996</th>\n",
       "      <td>[0, 2, 0, 1, 2, 1, 0, 0, 2, 2, 0, 0, 1, 1, 0, ...</td>\n",
       "      <td>[0, 0, 0, 0, 0]</td>\n",
       "    </tr>\n",
       "    <tr>\n",
       "      <th>997</th>\n",
       "      <td>[1, 2, 0, 1, 1, 0, 1, 2, 1, 2, 1, 0, 1, 0, 2, ...</td>\n",
       "      <td>[1, 0, 1, 1, 0]</td>\n",
       "    </tr>\n",
       "    <tr>\n",
       "      <th>998</th>\n",
       "      <td>[1, 1, 1, 1, 2, 0, 1, 1, 1, 0, 1, 2, 0, 0, 0, ...</td>\n",
       "      <td>[1, 1, 1, 0, 1]</td>\n",
       "    </tr>\n",
       "    <tr>\n",
       "      <th>999</th>\n",
       "      <td>[0, 2, 1, 1, 0, 0, 0, 2, 1, 1, 1, 2, 1, 1, 1, ...</td>\n",
       "      <td>[1, 1, 1, 0, 1]</td>\n",
       "    </tr>\n",
       "  </tbody>\n",
       "</table>\n",
       "<p>1000 rows × 2 columns</p>\n",
       "</div>"
      ],
      "text/plain": [
       "                                           board_state      move_chosen\n",
       "0    [1, 2, 2, 1, 2, 0, 1, 2, 1, 0, 0, 2, 2, 2, 0, ...  [1, 1, 1, 1, 1]\n",
       "1    [2, 0, 0, 1, 0, 0, 2, 0, 1, 2, 0, 1, 1, 0, 0, ...  [1, 0, 0, 0, 1]\n",
       "2    [1, 2, 1, 1, 2, 0, 0, 2, 1, 1, 0, 0, 1, 2, 1, ...  [0, 0, 1, 1, 0]\n",
       "3    [1, 1, 0, 2, 0, 2, 1, 1, 2, 0, 1, 1, 1, 0, 2, ...  [1, 1, 1, 0, 1]\n",
       "4    [0, 0, 2, 2, 1, 1, 2, 0, 1, 2, 1, 0, 0, 0, 2, ...  [0, 0, 1, 0, 1]\n",
       "..                                                 ...              ...\n",
       "995  [2, 0, 0, 0, 0, 0, 1, 1, 0, 2, 2, 1, 2, 2, 0, ...  [1, 0, 1, 1, 1]\n",
       "996  [0, 2, 0, 1, 2, 1, 0, 0, 2, 2, 0, 0, 1, 1, 0, ...  [0, 0, 0, 0, 0]\n",
       "997  [1, 2, 0, 1, 1, 0, 1, 2, 1, 2, 1, 0, 1, 0, 2, ...  [1, 0, 1, 1, 0]\n",
       "998  [1, 1, 1, 1, 2, 0, 1, 1, 1, 0, 1, 2, 0, 0, 0, ...  [1, 1, 1, 0, 1]\n",
       "999  [0, 2, 1, 1, 0, 0, 0, 2, 1, 1, 1, 2, 1, 1, 1, ...  [1, 1, 1, 0, 1]\n",
       "\n",
       "[1000 rows x 2 columns]"
      ]
     },
     "execution_count": 16,
     "metadata": {},
     "output_type": "execute_result"
    }
   ],
   "source": [
    "df"
   ]
  },
  {
   "cell_type": "code",
   "execution_count": 40,
   "id": "5125a940",
   "metadata": {},
   "outputs": [
    {
     "data": {
      "text/plain": [
       "0      [1, 2, 2, 1, 2, 0, 1, 2, 1, 0, 0, 2, 2, 2, 0, ...\n",
       "1      [2, 0, 0, 1, 0, 0, 2, 0, 1, 2, 0, 1, 1, 0, 0, ...\n",
       "2      [1, 2, 1, 1, 2, 0, 0, 2, 1, 1, 0, 0, 1, 2, 1, ...\n",
       "3      [1, 1, 0, 2, 0, 2, 1, 1, 2, 0, 1, 1, 1, 0, 2, ...\n",
       "4      [0, 0, 2, 2, 1, 1, 2, 0, 1, 2, 1, 0, 0, 0, 2, ...\n",
       "                             ...                        \n",
       "995    [2, 0, 0, 0, 0, 0, 1, 1, 0, 2, 2, 1, 2, 2, 0, ...\n",
       "996    [0, 2, 0, 1, 2, 1, 0, 0, 2, 2, 0, 0, 1, 1, 0, ...\n",
       "997    [1, 2, 0, 1, 1, 0, 1, 2, 1, 2, 1, 0, 1, 0, 2, ...\n",
       "998    [1, 1, 1, 1, 2, 0, 1, 1, 1, 0, 1, 2, 0, 0, 0, ...\n",
       "999    [0, 2, 1, 1, 0, 0, 0, 2, 1, 1, 1, 2, 1, 1, 1, ...\n",
       "Name: board_state, Length: 1000, dtype: object"
      ]
     },
     "execution_count": 40,
     "metadata": {},
     "output_type": "execute_result"
    }
   ],
   "source": [
    "df[\"board_state\"].apply(lambda x: ast.literal_eval(x))"
   ]
  },
  {
   "cell_type": "code",
   "execution_count": 48,
   "id": "1d41fcf1",
   "metadata": {},
   "outputs": [
    {
     "data": {
      "text/plain": [
       "0      [1, 1, 1, 1, 1]\n",
       "1      [1, 0, 0, 0, 1]\n",
       "2      [0, 0, 1, 1, 0]\n",
       "3      [1, 1, 1, 0, 1]\n",
       "4      [0, 0, 1, 0, 1]\n",
       "            ...       \n",
       "995    [1, 0, 1, 1, 1]\n",
       "996    [0, 0, 0, 0, 0]\n",
       "997    [1, 0, 1, 1, 0]\n",
       "998    [1, 1, 1, 0, 1]\n",
       "999    [1, 1, 1, 0, 1]\n",
       "Name: move_chosen, Length: 1000, dtype: object"
      ]
     },
     "execution_count": 48,
     "metadata": {},
     "output_type": "execute_result"
    }
   ],
   "source": [
    "df[\"move_chosen\"].apply(lambda x: np.array(ast.literal_eval(x)))"
   ]
  },
  {
   "cell_type": "code",
   "execution_count": 54,
   "id": "dd3b3faf",
   "metadata": {},
   "outputs": [
    {
     "data": {
      "text/html": [
       "<div>\n",
       "<style scoped>\n",
       "    .dataframe tbody tr th:only-of-type {\n",
       "        vertical-align: middle;\n",
       "    }\n",
       "\n",
       "    .dataframe tbody tr th {\n",
       "        vertical-align: top;\n",
       "    }\n",
       "\n",
       "    .dataframe thead th {\n",
       "        text-align: right;\n",
       "    }\n",
       "</style>\n",
       "<table border=\"1\" class=\"dataframe\">\n",
       "  <thead>\n",
       "    <tr style=\"text-align: right;\">\n",
       "      <th></th>\n",
       "      <th>board_state</th>\n",
       "      <th>move_chosen</th>\n",
       "    </tr>\n",
       "  </thead>\n",
       "  <tbody>\n",
       "    <tr>\n",
       "      <th>0</th>\n",
       "      <td>[1, 2, 2, 1, 2, 0, 1, 2, 1, 0, 0, 2, 2, 2, 0, ...</td>\n",
       "      <td>[1, 1, 1, 1, 1]</td>\n",
       "    </tr>\n",
       "  </tbody>\n",
       "</table>\n",
       "</div>"
      ],
      "text/plain": [
       "                                         board_state      move_chosen\n",
       "0  [1, 2, 2, 1, 2, 0, 1, 2, 1, 0, 0, 2, 2, 2, 0, ...  [1, 1, 1, 1, 1]"
      ]
     },
     "execution_count": 54,
     "metadata": {},
     "output_type": "execute_result"
    }
   ],
   "source": [
    "df.loc[:0]"
   ]
  },
  {
   "cell_type": "code",
   "execution_count": 42,
   "id": "a41e05e8",
   "metadata": {},
   "outputs": [],
   "source": [
    "train_data, test_data = train_test_split(df, test_size=0.2, random_state=42)"
   ]
  },
  {
   "cell_type": "code",
   "execution_count": 43,
   "id": "75980876",
   "metadata": {},
   "outputs": [],
   "source": [
    "train_data_x_label  = train_data['board_state']\n",
    "train_data_y_label = train_data['move_chosen']"
   ]
  },
  {
   "cell_type": "code",
   "execution_count": 59,
   "id": "2d8bf520",
   "metadata": {},
   "outputs": [],
   "source": [
    "a = []\n",
    "\n",
    "for x in train_data_x_label.values:\n",
    "    a.append(ast.literal_eval(x))"
   ]
  },
  {
   "cell_type": "code",
   "execution_count": 62,
   "id": "9502612b",
   "metadata": {},
   "outputs": [],
   "source": [
    "a = np.array(a)"
   ]
  },
  {
   "cell_type": "code",
   "execution_count": 66,
   "id": "f6ae9c05",
   "metadata": {},
   "outputs": [
    {
     "data": {
      "text/plain": [
       "(800, 20)"
      ]
     },
     "execution_count": 66,
     "metadata": {},
     "output_type": "execute_result"
    }
   ],
   "source": [
    "a.shape"
   ]
  },
  {
   "cell_type": "code",
   "execution_count": 68,
   "id": "7daf4088",
   "metadata": {},
   "outputs": [],
   "source": [
    "b = []"
   ]
  },
  {
   "cell_type": "code",
   "execution_count": 69,
   "id": "68d3315c",
   "metadata": {},
   "outputs": [],
   "source": [
    "for x in train_data_y_label.values:\n",
    "    b.append(ast.literal_eval(x))"
   ]
  },
  {
   "cell_type": "code",
   "execution_count": 70,
   "id": "0b650c9a",
   "metadata": {},
   "outputs": [],
   "source": [
    "b = np.array(b)"
   ]
  },
  {
   "cell_type": "code",
   "execution_count": 73,
   "id": "e58a4a9f",
   "metadata": {},
   "outputs": [
    {
     "data": {
      "text/plain": [
       "(800, 5)"
      ]
     },
     "execution_count": 73,
     "metadata": {},
     "output_type": "execute_result"
    }
   ],
   "source": [
    "b.shape"
   ]
  },
  {
   "cell_type": "code",
   "execution_count": 75,
   "id": "ade1b8b3",
   "metadata": {},
   "outputs": [
    {
     "name": "stdout",
     "output_type": "stream",
     "text": [
      "Epoch 1/100\n",
      "25/25 [==============================] - 0s 4ms/step - loss: 0.3373 - accuracy: 0.0800\n",
      "Epoch 2/100\n",
      " 1/25 [>.............................] - ETA: 0s - loss: 0.3148 - accuracy: 0.0938"
     ]
    },
    {
     "name": "stderr",
     "output_type": "stream",
     "text": [
      "2022-04-05 16:23:41.950964: I tensorflow/core/grappler/optimizers/custom_graph_optimizer_registry.cc:113] Plugin optimizer for device_type GPU is enabled.\n"
     ]
    },
    {
     "name": "stdout",
     "output_type": "stream",
     "text": [
      "25/25 [==============================] - 0s 5ms/step - loss: 0.3338 - accuracy: 0.1562\n",
      "Epoch 3/100\n",
      "25/25 [==============================] - 0s 4ms/step - loss: 0.3324 - accuracy: 0.2025\n",
      "Epoch 4/100\n",
      "25/25 [==============================] - 0s 4ms/step - loss: 0.3316 - accuracy: 0.2237\n",
      "Epoch 5/100\n",
      "25/25 [==============================] - 0s 4ms/step - loss: 0.3308 - accuracy: 0.2300\n",
      "Epoch 6/100\n",
      "25/25 [==============================] - 0s 4ms/step - loss: 0.3303 - accuracy: 0.2412\n",
      "Epoch 7/100\n",
      "25/25 [==============================] - 0s 4ms/step - loss: 0.3298 - accuracy: 0.2550\n",
      "Epoch 8/100\n",
      "25/25 [==============================] - 0s 4ms/step - loss: 0.3294 - accuracy: 0.2562\n",
      "Epoch 9/100\n",
      "25/25 [==============================] - 0s 4ms/step - loss: 0.3290 - accuracy: 0.2687\n",
      "Epoch 10/100\n",
      "25/25 [==============================] - 0s 4ms/step - loss: 0.3286 - accuracy: 0.2662\n",
      "Epoch 11/100\n",
      "25/25 [==============================] - 0s 4ms/step - loss: 0.3283 - accuracy: 0.2662\n",
      "Epoch 12/100\n",
      "25/25 [==============================] - 0s 4ms/step - loss: 0.3280 - accuracy: 0.2725\n",
      "Epoch 13/100\n",
      "25/25 [==============================] - 0s 5ms/step - loss: 0.3276 - accuracy: 0.2675\n",
      "Epoch 14/100\n",
      "25/25 [==============================] - 0s 5ms/step - loss: 0.3273 - accuracy: 0.2637\n",
      "Epoch 15/100\n",
      "25/25 [==============================] - 0s 5ms/step - loss: 0.3270 - accuracy: 0.2900\n",
      "Epoch 16/100\n",
      "25/25 [==============================] - 0s 4ms/step - loss: 0.3268 - accuracy: 0.2975\n",
      "Epoch 17/100\n",
      "25/25 [==============================] - 0s 4ms/step - loss: 0.3264 - accuracy: 0.2812\n",
      "Epoch 18/100\n",
      "25/25 [==============================] - 0s 5ms/step - loss: 0.3261 - accuracy: 0.2763\n",
      "Epoch 19/100\n",
      "25/25 [==============================] - 0s 4ms/step - loss: 0.3258 - accuracy: 0.2937\n",
      "Epoch 20/100\n",
      "25/25 [==============================] - 0s 5ms/step - loss: 0.3256 - accuracy: 0.2788\n",
      "Epoch 21/100\n",
      "25/25 [==============================] - 0s 4ms/step - loss: 0.3253 - accuracy: 0.2950\n",
      "Epoch 22/100\n",
      "25/25 [==============================] - 0s 4ms/step - loss: 0.3251 - accuracy: 0.3000\n",
      "Epoch 23/100\n",
      "25/25 [==============================] - 0s 4ms/step - loss: 0.3247 - accuracy: 0.2887\n",
      "Epoch 24/100\n",
      "25/25 [==============================] - 0s 4ms/step - loss: 0.3243 - accuracy: 0.2975\n",
      "Epoch 25/100\n",
      "25/25 [==============================] - 0s 4ms/step - loss: 0.3241 - accuracy: 0.2862\n",
      "Epoch 26/100\n",
      "25/25 [==============================] - 0s 4ms/step - loss: 0.3238 - accuracy: 0.2887\n",
      "Epoch 27/100\n",
      "25/25 [==============================] - 0s 5ms/step - loss: 0.3236 - accuracy: 0.2887\n",
      "Epoch 28/100\n",
      "25/25 [==============================] - 0s 5ms/step - loss: 0.3234 - accuracy: 0.3050\n",
      "Epoch 29/100\n",
      "25/25 [==============================] - 0s 5ms/step - loss: 0.3230 - accuracy: 0.3000\n",
      "Epoch 30/100\n",
      "25/25 [==============================] - 0s 5ms/step - loss: 0.3227 - accuracy: 0.2887\n",
      "Epoch 31/100\n",
      "25/25 [==============================] - 0s 4ms/step - loss: 0.3224 - accuracy: 0.3113\n",
      "Epoch 32/100\n",
      "25/25 [==============================] - 0s 5ms/step - loss: 0.3223 - accuracy: 0.3025\n",
      "Epoch 33/100\n",
      "25/25 [==============================] - 0s 4ms/step - loss: 0.3220 - accuracy: 0.3088\n",
      "Epoch 34/100\n",
      "25/25 [==============================] - 0s 5ms/step - loss: 0.3215 - accuracy: 0.3025\n",
      "Epoch 35/100\n",
      "25/25 [==============================] - 0s 5ms/step - loss: 0.3213 - accuracy: 0.2975\n",
      "Epoch 36/100\n",
      "25/25 [==============================] - 0s 4ms/step - loss: 0.3210 - accuracy: 0.3150\n",
      "Epoch 37/100\n",
      "25/25 [==============================] - 0s 4ms/step - loss: 0.3207 - accuracy: 0.2975\n",
      "Epoch 38/100\n",
      "25/25 [==============================] - 0s 4ms/step - loss: 0.3204 - accuracy: 0.3000\n",
      "Epoch 39/100\n",
      "25/25 [==============================] - 0s 4ms/step - loss: 0.3201 - accuracy: 0.2987\n",
      "Epoch 40/100\n",
      "25/25 [==============================] - 0s 5ms/step - loss: 0.3198 - accuracy: 0.2975\n",
      "Epoch 41/100\n",
      "25/25 [==============================] - 0s 5ms/step - loss: 0.3195 - accuracy: 0.3025\n",
      "Epoch 42/100\n",
      "25/25 [==============================] - 0s 5ms/step - loss: 0.3194 - accuracy: 0.2912\n",
      "Epoch 43/100\n",
      "25/25 [==============================] - 0s 5ms/step - loss: 0.3191 - accuracy: 0.2937\n",
      "Epoch 44/100\n",
      "25/25 [==============================] - 0s 4ms/step - loss: 0.3187 - accuracy: 0.2887\n",
      "Epoch 45/100\n",
      "25/25 [==============================] - 0s 4ms/step - loss: 0.3184 - accuracy: 0.2912\n",
      "Epoch 46/100\n",
      "25/25 [==============================] - 0s 4ms/step - loss: 0.3181 - accuracy: 0.2837\n",
      "Epoch 47/100\n",
      "25/25 [==============================] - 0s 5ms/step - loss: 0.3177 - accuracy: 0.2900\n",
      "Epoch 48/100\n",
      "25/25 [==============================] - 0s 4ms/step - loss: 0.3175 - accuracy: 0.2925\n",
      "Epoch 49/100\n",
      "25/25 [==============================] - 0s 4ms/step - loss: 0.3174 - accuracy: 0.2837\n",
      "Epoch 50/100\n",
      "25/25 [==============================] - 0s 4ms/step - loss: 0.3169 - accuracy: 0.2887\n",
      "Epoch 51/100\n",
      "25/25 [==============================] - 0s 5ms/step - loss: 0.3165 - accuracy: 0.2763\n",
      "Epoch 52/100\n",
      "25/25 [==============================] - 0s 4ms/step - loss: 0.3164 - accuracy: 0.2862\n",
      "Epoch 53/100\n",
      "25/25 [==============================] - 0s 4ms/step - loss: 0.3161 - accuracy: 0.2862\n",
      "Epoch 54/100\n",
      "25/25 [==============================] - 0s 4ms/step - loss: 0.3159 - accuracy: 0.2812\n",
      "Epoch 55/100\n",
      "25/25 [==============================] - 0s 4ms/step - loss: 0.3156 - accuracy: 0.2738\n",
      "Epoch 56/100\n",
      "25/25 [==============================] - 0s 4ms/step - loss: 0.3154 - accuracy: 0.2800\n",
      "Epoch 57/100\n",
      "25/25 [==============================] - 0s 4ms/step - loss: 0.3151 - accuracy: 0.2800\n",
      "Epoch 58/100\n",
      "25/25 [==============================] - 0s 4ms/step - loss: 0.3148 - accuracy: 0.2738\n",
      "Epoch 59/100\n",
      "25/25 [==============================] - 0s 5ms/step - loss: 0.3147 - accuracy: 0.2700\n",
      "Epoch 60/100\n",
      "25/25 [==============================] - 0s 5ms/step - loss: 0.3143 - accuracy: 0.2712\n",
      "Epoch 61/100\n",
      "25/25 [==============================] - 0s 5ms/step - loss: 0.3143 - accuracy: 0.2812\n",
      "Epoch 62/100\n",
      "25/25 [==============================] - 0s 5ms/step - loss: 0.3138 - accuracy: 0.2712\n",
      "Epoch 63/100\n",
      "25/25 [==============================] - 0s 5ms/step - loss: 0.3136 - accuracy: 0.2800\n",
      "Epoch 64/100\n",
      "25/25 [==============================] - 0s 5ms/step - loss: 0.3133 - accuracy: 0.2788\n",
      "Epoch 65/100\n",
      "25/25 [==============================] - 0s 5ms/step - loss: 0.3130 - accuracy: 0.2825\n",
      "Epoch 66/100\n",
      "25/25 [==============================] - 0s 5ms/step - loss: 0.3129 - accuracy: 0.2763\n",
      "Epoch 67/100\n",
      "25/25 [==============================] - 0s 4ms/step - loss: 0.3125 - accuracy: 0.2825\n",
      "Epoch 68/100\n",
      "25/25 [==============================] - 0s 5ms/step - loss: 0.3123 - accuracy: 0.2825\n",
      "Epoch 69/100\n",
      "25/25 [==============================] - 0s 5ms/step - loss: 0.3121 - accuracy: 0.2825\n",
      "Epoch 70/100\n",
      "25/25 [==============================] - 0s 4ms/step - loss: 0.3121 - accuracy: 0.2775\n",
      "Epoch 71/100\n",
      "25/25 [==============================] - 0s 4ms/step - loss: 0.3119 - accuracy: 0.2662\n",
      "Epoch 72/100\n",
      "25/25 [==============================] - 0s 4ms/step - loss: 0.3115 - accuracy: 0.2800\n",
      "Epoch 73/100\n",
      "25/25 [==============================] - 0s 4ms/step - loss: 0.3112 - accuracy: 0.2500\n",
      "Epoch 74/100\n",
      "25/25 [==============================] - 0s 4ms/step - loss: 0.3111 - accuracy: 0.2887\n",
      "Epoch 75/100\n",
      "25/25 [==============================] - 0s 5ms/step - loss: 0.3106 - accuracy: 0.2812\n",
      "Epoch 76/100\n",
      "25/25 [==============================] - 0s 5ms/step - loss: 0.3105 - accuracy: 0.2837\n",
      "Epoch 77/100\n",
      "25/25 [==============================] - 0s 5ms/step - loss: 0.3102 - accuracy: 0.2987\n",
      "Epoch 78/100\n",
      "25/25 [==============================] - 0s 5ms/step - loss: 0.3099 - accuracy: 0.2800\n",
      "Epoch 79/100\n",
      "25/25 [==============================] - 0s 5ms/step - loss: 0.3100 - accuracy: 0.2775\n",
      "Epoch 80/100\n",
      "25/25 [==============================] - 0s 5ms/step - loss: 0.3099 - accuracy: 0.2875\n",
      "Epoch 81/100\n",
      "25/25 [==============================] - 0s 5ms/step - loss: 0.3098 - accuracy: 0.2675\n",
      "Epoch 82/100\n",
      "25/25 [==============================] - 0s 5ms/step - loss: 0.3089 - accuracy: 0.2750\n",
      "Epoch 83/100\n",
      "25/25 [==============================] - 0s 5ms/step - loss: 0.3088 - accuracy: 0.2788\n",
      "Epoch 84/100\n"
     ]
    },
    {
     "name": "stdout",
     "output_type": "stream",
     "text": [
      "25/25 [==============================] - 0s 5ms/step - loss: 0.3086 - accuracy: 0.2962\n",
      "Epoch 85/100\n",
      "25/25 [==============================] - 0s 4ms/step - loss: 0.3083 - accuracy: 0.2725\n",
      "Epoch 86/100\n",
      "25/25 [==============================] - 0s 5ms/step - loss: 0.3082 - accuracy: 0.2812\n",
      "Epoch 87/100\n",
      "25/25 [==============================] - 0s 4ms/step - loss: 0.3078 - accuracy: 0.2800\n",
      "Epoch 88/100\n",
      "25/25 [==============================] - 0s 4ms/step - loss: 0.3075 - accuracy: 0.2788\n",
      "Epoch 89/100\n",
      "25/25 [==============================] - 0s 4ms/step - loss: 0.3075 - accuracy: 0.2650\n",
      "Epoch 90/100\n",
      "25/25 [==============================] - 0s 5ms/step - loss: 0.3073 - accuracy: 0.2750\n",
      "Epoch 91/100\n",
      "25/25 [==============================] - 0s 4ms/step - loss: 0.3073 - accuracy: 0.2738\n",
      "Epoch 92/100\n",
      "25/25 [==============================] - 0s 5ms/step - loss: 0.3070 - accuracy: 0.2950\n",
      "Epoch 93/100\n",
      "25/25 [==============================] - 0s 5ms/step - loss: 0.3066 - accuracy: 0.2812\n",
      "Epoch 94/100\n",
      "25/25 [==============================] - 0s 4ms/step - loss: 0.3065 - accuracy: 0.2637\n",
      "Epoch 95/100\n",
      "25/25 [==============================] - 0s 5ms/step - loss: 0.3066 - accuracy: 0.2887\n",
      "Epoch 96/100\n",
      "25/25 [==============================] - 0s 5ms/step - loss: 0.3060 - accuracy: 0.2900\n",
      "Epoch 97/100\n",
      "25/25 [==============================] - 0s 4ms/step - loss: 0.3057 - accuracy: 0.2800\n",
      "Epoch 98/100\n",
      "25/25 [==============================] - 0s 5ms/step - loss: 0.3058 - accuracy: 0.2788\n",
      "Epoch 99/100\n",
      "25/25 [==============================] - 0s 4ms/step - loss: 0.3054 - accuracy: 0.2887\n",
      "Epoch 100/100\n",
      "25/25 [==============================] - 0s 5ms/step - loss: 0.3055 - accuracy: 0.2700\n"
     ]
    },
    {
     "data": {
      "text/plain": [
       "<keras.callbacks.History at 0x2992a8f40>"
      ]
     },
     "execution_count": 75,
     "metadata": {},
     "output_type": "execute_result"
    }
   ],
   "source": [
    "from tensorflow.keras.models import Sequential\n",
    "from tensorflow.keras.layers import Dense, Activation\n",
    "\n",
    "model = Sequential()\n",
    "model.add(Dense(15, input_dim=a.shape[1], activation='relu'))\n",
    "model.add(Dense(10, activation='relu'))\n",
    "model.add(Dense(b.shape[1], activation='softmax'))\n",
    "model.compile(loss='mean_squared_error', optimizer='adam', metrics='accuracy')\n",
    "model.fit(a,b,verbose=1,epochs=100)"
   ]
  },
  {
   "cell_type": "code",
   "execution_count": 76,
   "id": "e24ac590",
   "metadata": {},
   "outputs": [],
   "source": [
    "hi = ast.literal_eval(train_data_x_label[0])\n",
    " "
   ]
  },
  {
   "cell_type": "code",
   "execution_count": 78,
   "id": "abf0f5a9",
   "metadata": {},
   "outputs": [
    {
     "data": {
      "text/plain": [
       "[1, 2, 2, 1, 2, 0, 1, 2, 1, 0, 0, 2, 2, 2, 0, 1, 1, 0, 0, 2]"
      ]
     },
     "execution_count": 78,
     "metadata": {},
     "output_type": "execute_result"
    }
   ],
   "source": [
    "hi"
   ]
  },
  {
   "cell_type": "code",
   "execution_count": 81,
   "id": "deb16c69",
   "metadata": {},
   "outputs": [
    {
     "name": "stderr",
     "output_type": "stream",
     "text": [
      "2022-04-05 16:25:59.220668: I tensorflow/core/grappler/optimizers/custom_graph_optimizer_registry.cc:113] Plugin optimizer for device_type GPU is enabled.\n"
     ]
    },
    {
     "data": {
      "text/plain": [
       "array([[0.14461927, 0.33466431, 0.2129194 , 0.1763442 , 0.13145277]],\n",
       "      dtype=float32)"
      ]
     },
     "execution_count": 81,
     "metadata": {},
     "output_type": "execute_result"
    }
   ],
   "source": [
    "model.predict(np.array(hi).reshape(1,20))"
   ]
  },
  {
   "cell_type": "code",
   "execution_count": 87,
   "id": "1ae0e7a7",
   "metadata": {},
   "outputs": [],
   "source": [
    "df2 = pd.read_csv(\"demofile.csv\")"
   ]
  },
  {
   "cell_type": "code",
   "execution_count": 88,
   "id": "91d1755e",
   "metadata": {},
   "outputs": [
    {
     "data": {
      "text/plain": [
       "[0.0, 0.0, 0.0, 0.0, 0.0, 0.0, 0.0, 0.0, 0.0, 0.0, 0.0, 0.0, 0.0, 0.0, 0.0, 0.0, 0.0, 0.0, 0.0, 0.0]   \"[0.0  0.0  0.0     1.0]\"\n",
       "[0.0, 0.0, 0.0, 0.0, 1.0, 0.0, 0.0, 0.0, 0.0, 2.0, 0.0, 0.0, 0.0, 0.0, 0.0, 0.0, 0.0, 0.0, 0.0, 0.0]   \"[0.0  1.0  0.0     0.0]\"\n",
       "[0.0, 1.0, 0.0, 0.0, 1.0, 0.0, 0.0, 0.0, 0.0, 2.0, 0.0, 0.0, 0.0, 0.0, 2.0, 0.0, 0.0, 0.0, 0.0, 0.0]   \"[0.0  0.0  0.0     0.0]\"\n",
       "Name: action, dtype: object"
      ]
     },
     "execution_count": 88,
     "metadata": {},
     "output_type": "execute_result"
    }
   ],
   "source": [
    "df2[\"action\"]"
   ]
  },
  {
   "cell_type": "code",
   "execution_count": null,
   "id": "b486c887",
   "metadata": {},
   "outputs": [],
   "source": []
  }
 ],
 "metadata": {
  "kernelspec": {
   "display_name": "Python 3.9.10 ('env_tf')",
   "language": "python",
   "name": "python3910jvsc74a57bd0e4ea300f43ed5dc298ec7dac4e1e84827dee6c529d41bba19ebf078b2615c49c"
  },
  "language_info": {
   "codemirror_mode": {
    "name": "ipython",
    "version": 3
   },
   "file_extension": ".py",
   "mimetype": "text/x-python",
   "name": "python",
   "nbconvert_exporter": "python",
   "pygments_lexer": "ipython3",
   "version": "3.9.10"
  }
 },
 "nbformat": 4,
 "nbformat_minor": 5
}
