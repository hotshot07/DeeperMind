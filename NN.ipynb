{
 "cells": [
  {
   "cell_type": "code",
   "execution_count": 1,
   "id": "9e81494d",
   "metadata": {},
   "outputs": [],
   "source": [
    "import pandas as pd\n",
    "import numpy as np\n",
    "from sklearn.model_selection import train_test_split\n",
    "import keras\n",
    "import random\n",
    "import csv\n",
    "import ast"
   ]
  },
  {
   "cell_type": "code",
   "execution_count": null,
   "id": "b119ab5e",
   "metadata": {},
   "outputs": [],
   "source": [
    "data_dict = []"
   ]
  },
  {
   "cell_type": "code",
   "execution_count": null,
   "id": "07f91923",
   "metadata": {},
   "outputs": [],
   "source": [
    "# for k in range(1000):\n",
    "    \n",
    "#     dicti = {\n",
    "#         \"board_state\":[random.randint(0,2) for x in range(20)],\n",
    "#         \"move_chosen\":[random.randint(0,1) for x in range(5)]\n",
    "#     } \n",
    "    \n",
    "#     data_dict.append(dicti)"
   ]
  },
  {
   "cell_type": "code",
   "execution_count": null,
   "id": "9bc0f650",
   "metadata": {},
   "outputs": [],
   "source": [
    "# with open('data.csv', \"w\", newline=\"\") as csv_data_file:\n",
    "#     csv_writer = csv.writer(csv_data_file)\n",
    "#     csv_writer.writerow(data_dict[0].keys())\n",
    "\n",
    "#     for data_row in data_dict:\n",
    "#         csv_writer.writerow(data_row.values())"
   ]
  },
  {
   "cell_type": "code",
   "execution_count": 2,
   "id": "02738cef",
   "metadata": {},
   "outputs": [],
   "source": [
    "df = pd.read_csv('bfs_data.csv')"
   ]
  },
  {
   "cell_type": "code",
   "execution_count": 3,
   "id": "fcc1e89b",
   "metadata": {},
   "outputs": [
    {
     "data": {
      "text/html": [
       "<div>\n",
       "<style scoped>\n",
       "    .dataframe tbody tr th:only-of-type {\n",
       "        vertical-align: middle;\n",
       "    }\n",
       "\n",
       "    .dataframe tbody tr th {\n",
       "        vertical-align: top;\n",
       "    }\n",
       "\n",
       "    .dataframe thead th {\n",
       "        text-align: right;\n",
       "    }\n",
       "</style>\n",
       "<table border=\"1\" class=\"dataframe\">\n",
       "  <thead>\n",
       "    <tr style=\"text-align: right;\">\n",
       "      <th></th>\n",
       "      <th>state</th>\n",
       "      <th>action</th>\n",
       "    </tr>\n",
       "  </thead>\n",
       "  <tbody>\n",
       "    <tr>\n",
       "      <th>0</th>\n",
       "      <td>[0.0, 0.0, 0.0, 0.0, 0.0, 0.0, 0.0, 0.0, 0.0, ...</td>\n",
       "      <td>[0.0, 0.0, 0.0, 0.0, 1]</td>\n",
       "    </tr>\n",
       "    <tr>\n",
       "      <th>1</th>\n",
       "      <td>[0.0, 0.0, 0.0, 0.0, 1.0, 0.0, 0.0, 0.0, 0.0, ...</td>\n",
       "      <td>[0.0, 0.0, 0.0, 0.0, 1]</td>\n",
       "    </tr>\n",
       "    <tr>\n",
       "      <th>2</th>\n",
       "      <td>[0.0, 0.0, 0.0, 2.0, 1.0, 0.0, 0.0, 0.0, 0.0, ...</td>\n",
       "      <td>[0.0, 0.0, 0.0, 1, 0.0]</td>\n",
       "    </tr>\n",
       "    <tr>\n",
       "      <th>3</th>\n",
       "      <td>[0.0, 0.0, 2.0, 2.0, 1.0, 0.0, 0.0, 0.0, 1.0, ...</td>\n",
       "      <td>[0.0, 0.0, 1, 0.0, 0.0]</td>\n",
       "    </tr>\n",
       "    <tr>\n",
       "      <th>4</th>\n",
       "      <td>[0.0, 0.0, 2.0, 2.0, 1.0, 0.0, 0.0, 1.0, 1.0, ...</td>\n",
       "      <td>[0.0, 1, 0.0, 0.0, 0.0]</td>\n",
       "    </tr>\n",
       "    <tr>\n",
       "      <th>...</th>\n",
       "      <td>...</td>\n",
       "      <td>...</td>\n",
       "    </tr>\n",
       "    <tr>\n",
       "      <th>261444</th>\n",
       "      <td>[0.0, 0.0, 1.0, 0.0, 2.0, 0.0, 0.0, 0.0, 0.0, ...</td>\n",
       "      <td>[1, 0.0, 0.0, 0.0, 0.0]</td>\n",
       "    </tr>\n",
       "    <tr>\n",
       "      <th>261445</th>\n",
       "      <td>[1.0, 0.0, 1.0, 0.0, 2.0, 0.0, 0.0, 0.0, 0.0, ...</td>\n",
       "      <td>[0.0, 0.0, 1, 0.0, 0.0]</td>\n",
       "    </tr>\n",
       "    <tr>\n",
       "      <th>261446</th>\n",
       "      <td>[0.0, 0.0, 0.0, 0.0, 0.0, 0.0, 0.0, 0.0, 0.0, ...</td>\n",
       "      <td>[0.0, 0.0, 1, 0.0, 0.0]</td>\n",
       "    </tr>\n",
       "    <tr>\n",
       "      <th>261447</th>\n",
       "      <td>[0.0, 0.0, 1.0, 0.0, 2.0, 0.0, 0.0, 0.0, 0.0, ...</td>\n",
       "      <td>[1, 0.0, 0.0, 0.0, 0.0]</td>\n",
       "    </tr>\n",
       "    <tr>\n",
       "      <th>261448</th>\n",
       "      <td>[1.0, 0.0, 1.0, 0.0, 2.0, 0.0, 0.0, 0.0, 0.0, ...</td>\n",
       "      <td>[1, 0.0, 0.0, 0.0, 0.0]</td>\n",
       "    </tr>\n",
       "  </tbody>\n",
       "</table>\n",
       "<p>261449 rows × 2 columns</p>\n",
       "</div>"
      ],
      "text/plain": [
       "                                                    state  \\\n",
       "0       [0.0, 0.0, 0.0, 0.0, 0.0, 0.0, 0.0, 0.0, 0.0, ...   \n",
       "1       [0.0, 0.0, 0.0, 0.0, 1.0, 0.0, 0.0, 0.0, 0.0, ...   \n",
       "2       [0.0, 0.0, 0.0, 2.0, 1.0, 0.0, 0.0, 0.0, 0.0, ...   \n",
       "3       [0.0, 0.0, 2.0, 2.0, 1.0, 0.0, 0.0, 0.0, 1.0, ...   \n",
       "4       [0.0, 0.0, 2.0, 2.0, 1.0, 0.0, 0.0, 1.0, 1.0, ...   \n",
       "...                                                   ...   \n",
       "261444  [0.0, 0.0, 1.0, 0.0, 2.0, 0.0, 0.0, 0.0, 0.0, ...   \n",
       "261445  [1.0, 0.0, 1.0, 0.0, 2.0, 0.0, 0.0, 0.0, 0.0, ...   \n",
       "261446  [0.0, 0.0, 0.0, 0.0, 0.0, 0.0, 0.0, 0.0, 0.0, ...   \n",
       "261447  [0.0, 0.0, 1.0, 0.0, 2.0, 0.0, 0.0, 0.0, 0.0, ...   \n",
       "261448  [1.0, 0.0, 1.0, 0.0, 2.0, 0.0, 0.0, 0.0, 0.0, ...   \n",
       "\n",
       "                         action  \n",
       "0       [0.0, 0.0, 0.0, 0.0, 1]  \n",
       "1       [0.0, 0.0, 0.0, 0.0, 1]  \n",
       "2       [0.0, 0.0, 0.0, 1, 0.0]  \n",
       "3       [0.0, 0.0, 1, 0.0, 0.0]  \n",
       "4       [0.0, 1, 0.0, 0.0, 0.0]  \n",
       "...                         ...  \n",
       "261444  [1, 0.0, 0.0, 0.0, 0.0]  \n",
       "261445  [0.0, 0.0, 1, 0.0, 0.0]  \n",
       "261446  [0.0, 0.0, 1, 0.0, 0.0]  \n",
       "261447  [1, 0.0, 0.0, 0.0, 0.0]  \n",
       "261448  [1, 0.0, 0.0, 0.0, 0.0]  \n",
       "\n",
       "[261449 rows x 2 columns]"
      ]
     },
     "execution_count": 3,
     "metadata": {},
     "output_type": "execute_result"
    }
   ],
   "source": [
    "df"
   ]
  },
  {
   "cell_type": "code",
   "execution_count": 4,
   "id": "5125a940",
   "metadata": {},
   "outputs": [],
   "source": [
    "df[\"state\"] = df[\"state\"].apply(lambda x: ast.literal_eval(x))"
   ]
  },
  {
   "cell_type": "code",
   "execution_count": 5,
   "id": "1d41fcf1",
   "metadata": {},
   "outputs": [],
   "source": [
    "df[\"action\"] = df[\"action\"].apply(lambda x: np.array(ast.literal_eval(x)))"
   ]
  },
  {
   "cell_type": "code",
   "execution_count": 6,
   "id": "dd3b3faf",
   "metadata": {},
   "outputs": [],
   "source": [
    "train_data, test_data = train_test_split(df, test_size=0.2, random_state=42)"
   ]
  },
  {
   "cell_type": "code",
   "execution_count": 7,
   "id": "a41e05e8",
   "metadata": {},
   "outputs": [],
   "source": [
    "train_data_x_label  = train_data['state']\n",
    "train_data_y_label = train_data['action']"
   ]
  },
  {
   "cell_type": "code",
   "execution_count": 8,
   "id": "75980876",
   "metadata": {},
   "outputs": [],
   "source": [
    "train_values = []\n",
    "\n",
    "for x in train_data_x_label.values:\n",
    "    train_values.append(x)\n",
    "\n",
    "train_values = np.array(train_values)"
   ]
  },
  {
   "cell_type": "code",
   "execution_count": 10,
   "id": "2d8bf520",
   "metadata": {},
   "outputs": [
    {
     "data": {
      "text/plain": [
       "(209159, 20)"
      ]
     },
     "execution_count": 10,
     "metadata": {},
     "output_type": "execute_result"
    }
   ],
   "source": [
    "train_values.shape"
   ]
  },
  {
   "cell_type": "code",
   "execution_count": 11,
   "id": "9502612b",
   "metadata": {},
   "outputs": [],
   "source": [
    "train_values_y = []\n",
    "\n",
    "for x in train_data_y_label.values:\n",
    "    train_values_y.append(x)\n",
    "\n",
    "train_values_y = np.array(train_values_y)"
   ]
  },
  {
   "cell_type": "code",
   "execution_count": 12,
   "id": "f6ae9c05",
   "metadata": {},
   "outputs": [
    {
     "data": {
      "text/plain": [
       "(209159, 5)"
      ]
     },
     "execution_count": 12,
     "metadata": {},
     "output_type": "execute_result"
    }
   ],
   "source": [
    "train_values_y.shape"
   ]
  },
  {
   "cell_type": "code",
   "execution_count": 32,
   "id": "ade1b8b3",
   "metadata": {},
   "outputs": [
    {
     "name": "stdout",
     "output_type": "stream",
     "text": [
      "Epoch 1/10\n",
      "  18/6537 [..............................] - ETA: 40s - loss: 1.6354 - accuracy: 0.1910 "
     ]
    },
    {
     "name": "stderr",
     "output_type": "stream",
     "text": [
      "2022-04-05 22:07:00.330634: I tensorflow/core/grappler/optimizers/custom_graph_optimizer_registry.cc:113] Plugin optimizer for device_type GPU is enabled.\n"
     ]
    },
    {
     "name": "stdout",
     "output_type": "stream",
     "text": [
      "6537/6537 [==============================] - 39s 6ms/step - loss: 1.5809 - accuracy: 0.2389\n",
      "Epoch 2/10\n",
      "6537/6537 [==============================] - 39s 6ms/step - loss: 1.5567 - accuracy: 0.2421\n",
      "Epoch 3/10\n",
      "6537/6537 [==============================] - 39s 6ms/step - loss: 1.5472 - accuracy: 0.2422\n",
      "Epoch 4/10\n",
      "6537/6537 [==============================] - 39s 6ms/step - loss: 1.5422 - accuracy: 0.2427\n",
      "Epoch 5/10\n",
      "6537/6537 [==============================] - 40s 6ms/step - loss: 1.5395 - accuracy: 0.2415\n",
      "Epoch 6/10\n",
      "6537/6537 [==============================] - 44s 7ms/step - loss: 1.5361 - accuracy: 0.2411\n",
      "Epoch 7/10\n",
      "6537/6537 [==============================] - 41s 6ms/step - loss: 1.5339 - accuracy: 0.2424\n",
      "Epoch 8/10\n",
      "6537/6537 [==============================] - 43s 7ms/step - loss: 1.5322 - accuracy: 0.2439\n",
      "Epoch 9/10\n",
      "6537/6537 [==============================] - 41s 6ms/step - loss: 1.5312 - accuracy: 0.2437\n",
      "Epoch 10/10\n",
      "6537/6537 [==============================] - 41s 6ms/step - loss: 1.5307 - accuracy: 0.2436\n"
     ]
    },
    {
     "data": {
      "text/plain": [
       "<keras.callbacks.History at 0x2d99a9b50>"
      ]
     },
     "execution_count": 32,
     "metadata": {},
     "output_type": "execute_result"
    }
   ],
   "source": [
    "from tensorflow.keras.models import Sequential\n",
    "from tensorflow.keras.layers import Dense, Activation\n",
    "import tensorflow\n",
    "\n",
    "model = Sequential()\n",
    "model.add(Dense(15, input_dim=train_values.shape[1], activation='relu'))\n",
    "model.add(Dense(10, activation='relu'))\n",
    "model.add(Dense(train_values_y.shape[1], activation='softmax'))\n",
    "model.compile(loss='categorical_crossentropy', optimizer=\"adam\", metrics='accuracy')\n",
    "model.fit(train_values,train_values_y,verbose=1,epochs=10)"
   ]
  },
  {
   "cell_type": "code",
   "execution_count": 33,
   "id": "deb16c69",
   "metadata": {},
   "outputs": [
    {
     "name": "stdout",
     "output_type": "stream",
     "text": [
      "INFO:tensorflow:Assets written to: bfs_iteration_2/assets\n"
     ]
    }
   ],
   "source": [
    "model.save(\"bfs_iteration_2\")"
   ]
  },
  {
   "cell_type": "code",
   "execution_count": 25,
   "id": "e0585311",
   "metadata": {},
   "outputs": [],
   "source": [
    "test_data_x_label  = test_data['state']\n",
    "test_data_y_label = test_data['action']"
   ]
  },
  {
   "cell_type": "code",
   "execution_count": 26,
   "id": "7d8afbc0",
   "metadata": {},
   "outputs": [],
   "source": [
    "test_values = []\n",
    "\n",
    "for x in test_data_x_label.values:\n",
    "    test_values.append(x)\n",
    "\n",
    "test_values = np.array(test_values)"
   ]
  },
  {
   "cell_type": "code",
   "execution_count": 28,
   "id": "0cfa6b90",
   "metadata": {},
   "outputs": [],
   "source": [
    "test_values_y = []\n",
    "\n",
    "for x in test_data_y_label.values:\n",
    "    test_values_y.append(x)\n",
    "\n",
    "test_values_y = np.array(test_values_y)"
   ]
  },
  {
   "cell_type": "code",
   "execution_count": 34,
   "id": "9b6e9aa1",
   "metadata": {},
   "outputs": [
    {
     "name": "stdout",
     "output_type": "stream",
     "text": [
      "  20/1635 [..............................] - ETA: 10s - loss: 1.5609 - accuracy: 0.2547"
     ]
    },
    {
     "name": "stderr",
     "output_type": "stream",
     "text": [
      "2022-04-05 22:16:31.883656: I tensorflow/core/grappler/optimizers/custom_graph_optimizer_registry.cc:113] Plugin optimizer for device_type GPU is enabled.\n"
     ]
    },
    {
     "name": "stdout",
     "output_type": "stream",
     "text": [
      "1635/1635 [==============================] - 9s 5ms/step - loss: 1.5478 - accuracy: 0.2433\n"
     ]
    },
    {
     "data": {
      "text/plain": [
       "[1.547775387763977, 0.24331612884998322]"
      ]
     },
     "execution_count": 34,
     "metadata": {},
     "output_type": "execute_result"
    }
   ],
   "source": [
    "model.evaluate(test_values, test_values_y)"
   ]
  },
  {
   "cell_type": "code",
   "execution_count": null,
   "id": "093da68a",
   "metadata": {},
   "outputs": [],
   "source": []
  }
 ],
 "metadata": {
  "kernelspec": {
   "display_name": "Python 3.9.10 ('env_tf')",
   "language": "python",
   "name": "python3910jvsc74a57bd0e4ea300f43ed5dc298ec7dac4e1e84827dee6c529d41bba19ebf078b2615c49c"
  },
  "language_info": {
   "codemirror_mode": {
    "name": "ipython",
    "version": 3
   },
   "file_extension": ".py",
   "mimetype": "text/x-python",
   "name": "python",
   "nbconvert_exporter": "python",
   "pygments_lexer": "ipython3",
   "version": "3.9.10"
  }
 },
 "nbformat": 4,
 "nbformat_minor": 5
}
