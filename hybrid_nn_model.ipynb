{
 "cells": [
  {
   "cell_type": "code",
   "execution_count": 1,
   "metadata": {},
   "outputs": [],
   "source": [
    "import pandas as pd\n",
    "import numpy as np\n",
    "from sklearn.model_selection import train_test_split\n",
    "import keras\n",
    "import random\n",
    "import csv\n",
    "import ast"
   ]
  },
  {
   "cell_type": "code",
   "execution_count": 2,
   "metadata": {},
   "outputs": [],
   "source": [
    "df1 = pd.read_csv('data/dfs_moves.csv')"
   ]
  },
  {
   "cell_type": "code",
   "execution_count": 3,
   "metadata": {},
   "outputs": [],
   "source": [
    "df2 = pd.read_csv('data/minimax_moves.csv')"
   ]
  },
  {
   "cell_type": "code",
   "execution_count": 21,
   "metadata": {},
   "outputs": [
    {
     "data": {
      "text/plain": [
       "(26094, 2)"
      ]
     },
     "execution_count": 21,
     "metadata": {},
     "output_type": "execute_result"
    }
   ],
   "source": [
    "df1.shape"
   ]
  },
  {
   "cell_type": "code",
   "execution_count": 22,
   "metadata": {},
   "outputs": [
    {
     "data": {
      "text/plain": [
       "(32366, 2)"
      ]
     },
     "execution_count": 22,
     "metadata": {},
     "output_type": "execute_result"
    }
   ],
   "source": [
    "df2.shape"
   ]
  },
  {
   "cell_type": "code",
   "execution_count": 23,
   "metadata": {},
   "outputs": [],
   "source": [
    "merged_df = pd.concat([df1, df2], axis=0)"
   ]
  },
  {
   "cell_type": "code",
   "execution_count": 24,
   "metadata": {},
   "outputs": [],
   "source": [
    "merged_df[\"state\"] = merged_df[\"state\"].apply(lambda x: ast.literal_eval(x))\n",
    "merged_df[\"action\"] = merged_df[\"action\"].apply(lambda x: np.array(ast.literal_eval(x)))"
   ]
  },
  {
   "cell_type": "code",
   "execution_count": 25,
   "metadata": {},
   "outputs": [
    {
     "data": {
      "text/plain": [
       "(58460, 2)"
      ]
     },
     "execution_count": 25,
     "metadata": {},
     "output_type": "execute_result"
    }
   ],
   "source": [
    "merged_df.shape"
   ]
  },
  {
   "cell_type": "code",
   "execution_count": 26,
   "metadata": {},
   "outputs": [],
   "source": [
    "train_data_x_label  = merged_df['state']\n",
    "train_data_y_label = merged_df['action']"
   ]
  },
  {
   "cell_type": "code",
   "execution_count": 27,
   "metadata": {},
   "outputs": [],
   "source": [
    "train_values = []\n",
    "\n",
    "for x in train_data_x_label.values:\n",
    "    train_values.append(x)\n",
    "\n",
    "train_values = np.array(train_values)"
   ]
  },
  {
   "cell_type": "code",
   "execution_count": 28,
   "metadata": {},
   "outputs": [],
   "source": [
    "train_values_y = []\n",
    "\n",
    "for x in train_data_y_label.values:\n",
    "    train_values_y.append(x)\n",
    "\n",
    "train_values_y = np.array(train_values_y)"
   ]
  },
  {
   "cell_type": "code",
   "execution_count": 30,
   "metadata": {},
   "outputs": [
    {
     "data": {
      "text/plain": [
       "(58460, 5)"
      ]
     },
     "execution_count": 30,
     "metadata": {},
     "output_type": "execute_result"
    }
   ],
   "source": [
    "df1.shape"
   ]
  },
  {
   "cell_type": "code",
   "execution_count": 31,
   "metadata": {},
   "outputs": [
    {
     "name": "stderr",
     "output_type": "stream",
     "text": [
      "2022-04-08 14:54:50.861881: I tensorflow/core/common_runtime/pluggable_device/pluggable_device_factory.cc:305] Could not identify NUMA node of platform GPU ID 0, defaulting to 0. Your kernel may not have been built with NUMA support.\n",
      "2022-04-08 14:54:50.862213: I tensorflow/core/common_runtime/pluggable_device/pluggable_device_factory.cc:271] Created TensorFlow device (/job:localhost/replica:0/task:0/device:GPU:0 with 0 MB memory) -> physical PluggableDevice (device: 0, name: METAL, pci bus id: <undefined>)\n"
     ]
    },
    {
     "name": "stdout",
     "output_type": "stream",
     "text": [
      "Metal device set to: Apple M1 Pro\n",
      "Epoch 1/50\n"
     ]
    },
    {
     "name": "stderr",
     "output_type": "stream",
     "text": [
      "2022-04-08 14:54:51.084700: W tensorflow/core/platform/profile_utils/cpu_utils.cc:128] Failed to get CPU frequency: 0 Hz\n",
      "2022-04-08 14:54:51.220950: I tensorflow/core/grappler/optimizers/custom_graph_optimizer_registry.cc:113] Plugin optimizer for device_type GPU is enabled.\n"
     ]
    },
    {
     "name": "stdout",
     "output_type": "stream",
     "text": [
      "1827/1827 [==============================] - 14s 7ms/step - loss: 1.0795 - accuracy: 0.5549\n",
      "Epoch 2/50\n",
      "1827/1827 [==============================] - 13s 7ms/step - loss: 0.8311 - accuracy: 0.6544\n",
      "Epoch 3/50\n",
      "1827/1827 [==============================] - 13s 7ms/step - loss: 0.7534 - accuracy: 0.6830\n",
      "Epoch 4/50\n",
      "1827/1827 [==============================] - 13s 7ms/step - loss: 0.7075 - accuracy: 0.7007\n",
      "Epoch 5/50\n",
      "1827/1827 [==============================] - 13s 7ms/step - loss: 0.6783 - accuracy: 0.7087\n",
      "Epoch 6/50\n",
      "1827/1827 [==============================] - 13s 7ms/step - loss: 0.6553 - accuracy: 0.7163\n",
      "Epoch 7/50\n",
      "1827/1827 [==============================] - 13s 7ms/step - loss: 0.6374 - accuracy: 0.7257\n",
      "Epoch 8/50\n",
      "1827/1827 [==============================] - 13s 7ms/step - loss: 0.6232 - accuracy: 0.7314\n",
      "Epoch 9/50\n",
      "1827/1827 [==============================] - 13s 7ms/step - loss: 0.6112 - accuracy: 0.7363\n",
      "Epoch 10/50\n",
      "1827/1827 [==============================] - 12s 7ms/step - loss: 0.6008 - accuracy: 0.7420\n",
      "Epoch 11/50\n",
      "1827/1827 [==============================] - 12s 7ms/step - loss: 0.5921 - accuracy: 0.7441\n",
      "Epoch 12/50\n",
      "1827/1827 [==============================] - 13s 7ms/step - loss: 0.5848 - accuracy: 0.7488\n",
      "Epoch 13/50\n",
      "1827/1827 [==============================] - 12s 7ms/step - loss: 0.5787 - accuracy: 0.7502\n",
      "Epoch 14/50\n",
      "1827/1827 [==============================] - 12s 7ms/step - loss: 0.5732 - accuracy: 0.7505\n",
      "Epoch 15/50\n",
      "1827/1827 [==============================] - 12s 7ms/step - loss: 0.5690 - accuracy: 0.7548\n",
      "Epoch 16/50\n",
      "1827/1827 [==============================] - 12s 7ms/step - loss: 0.5654 - accuracy: 0.7564\n",
      "Epoch 17/50\n",
      "1827/1827 [==============================] - 12s 7ms/step - loss: 0.5616 - accuracy: 0.7583\n",
      "Epoch 18/50\n",
      "1827/1827 [==============================] - 12s 7ms/step - loss: 0.5587 - accuracy: 0.7588\n",
      "Epoch 19/50\n",
      "1827/1827 [==============================] - 12s 7ms/step - loss: 0.5563 - accuracy: 0.7604\n",
      "Epoch 20/50\n",
      "1827/1827 [==============================] - 12s 7ms/step - loss: 0.5551 - accuracy: 0.7605\n",
      "Epoch 21/50\n",
      "1827/1827 [==============================] - 12s 7ms/step - loss: 0.5521 - accuracy: 0.7617\n",
      "Epoch 22/50\n",
      "1827/1827 [==============================] - 13s 7ms/step - loss: 0.5502 - accuracy: 0.7615\n",
      "Epoch 23/50\n",
      "1827/1827 [==============================] - 13s 7ms/step - loss: 0.5485 - accuracy: 0.7642\n",
      "Epoch 24/50\n",
      "1827/1827 [==============================] - 13s 7ms/step - loss: 0.5480 - accuracy: 0.7646\n",
      "Epoch 25/50\n",
      "1827/1827 [==============================] - 13s 7ms/step - loss: 0.5469 - accuracy: 0.7650\n",
      "Epoch 26/50\n",
      "1827/1827 [==============================] - 13s 7ms/step - loss: 0.5458 - accuracy: 0.7640\n",
      "Epoch 27/50\n",
      "1827/1827 [==============================] - 13s 7ms/step - loss: 0.5443 - accuracy: 0.7647\n",
      "Epoch 28/50\n",
      "1827/1827 [==============================] - 13s 7ms/step - loss: 0.5430 - accuracy: 0.7645\n",
      "Epoch 29/50\n",
      "1827/1827 [==============================] - 13s 7ms/step - loss: 0.5424 - accuracy: 0.7653\n",
      "Epoch 30/50\n",
      "1827/1827 [==============================] - 13s 7ms/step - loss: 0.5408 - accuracy: 0.7652\n",
      "Epoch 31/50\n",
      "1827/1827 [==============================] - 12s 7ms/step - loss: 0.5403 - accuracy: 0.7672\n",
      "Epoch 32/50\n",
      "1827/1827 [==============================] - 12s 7ms/step - loss: 0.5394 - accuracy: 0.7664\n",
      "Epoch 33/50\n",
      "1827/1827 [==============================] - 12s 7ms/step - loss: 0.5393 - accuracy: 0.7671\n",
      "Epoch 34/50\n",
      "1827/1827 [==============================] - 12s 7ms/step - loss: 0.5376 - accuracy: 0.7672\n",
      "Epoch 35/50\n",
      "1827/1827 [==============================] - 12s 7ms/step - loss: 0.5368 - accuracy: 0.7658\n",
      "Epoch 36/50\n",
      "1827/1827 [==============================] - 12s 7ms/step - loss: 0.5350 - accuracy: 0.7692\n",
      "Epoch 37/50\n",
      "1827/1827 [==============================] - 12s 7ms/step - loss: 0.5342 - accuracy: 0.7678\n",
      "Epoch 38/50\n",
      "1827/1827 [==============================] - 12s 7ms/step - loss: 0.5337 - accuracy: 0.7680\n",
      "Epoch 39/50\n",
      "1827/1827 [==============================] - 12s 7ms/step - loss: 0.5329 - accuracy: 0.7685\n",
      "Epoch 40/50\n",
      "1827/1827 [==============================] - 12s 7ms/step - loss: 0.5320 - accuracy: 0.7689\n",
      "Epoch 41/50\n",
      "1827/1827 [==============================] - 12s 7ms/step - loss: 0.5317 - accuracy: 0.7696\n",
      "Epoch 42/50\n",
      "1827/1827 [==============================] - 12s 7ms/step - loss: 0.5310 - accuracy: 0.7697\n",
      "Epoch 43/50\n",
      "1827/1827 [==============================] - 12s 7ms/step - loss: 0.5300 - accuracy: 0.7700\n",
      "Epoch 44/50\n",
      "1827/1827 [==============================] - 12s 7ms/step - loss: 0.5287 - accuracy: 0.7702\n",
      "Epoch 45/50\n",
      "1827/1827 [==============================] - 12s 7ms/step - loss: 0.5288 - accuracy: 0.7703\n",
      "Epoch 46/50\n",
      "1827/1827 [==============================] - 12s 7ms/step - loss: 0.5276 - accuracy: 0.7704\n",
      "Epoch 47/50\n",
      "1827/1827 [==============================] - 13s 7ms/step - loss: 0.5274 - accuracy: 0.7711\n",
      "Epoch 48/50\n",
      "1827/1827 [==============================] - 13s 7ms/step - loss: 0.5260 - accuracy: 0.7714\n",
      "Epoch 49/50\n",
      "1827/1827 [==============================] - 13s 7ms/step - loss: 0.5255 - accuracy: 0.7712\n",
      "Epoch 50/50\n",
      "1827/1827 [==============================] - 12s 7ms/step - loss: 0.5251 - accuracy: 0.7691\n"
     ]
    },
    {
     "data": {
      "text/plain": [
       "<keras.callbacks.History at 0x28fde3ee0>"
      ]
     },
     "execution_count": 31,
     "metadata": {},
     "output_type": "execute_result"
    }
   ],
   "source": [
    "from tensorflow.keras.models import Sequential\n",
    "from tensorflow.keras.layers import Dense, Activation\n",
    "import tensorflow\n",
    "\n",
    "model = Sequential()\n",
    "model.add(Dense(15, input_dim=train_values.shape[1], activation='relu'))\n",
    "model.add(Dense(10, activation='relu'))\n",
    "model.add(Dense(train_values_y.shape[1], activation='softmax'))\n",
    "model.compile(loss='categorical_crossentropy', optimizer=\"adam\", metrics='accuracy')\n",
    "model.fit(train_values,train_values_y,verbose=1,epochs=50)"
   ]
  },
  {
   "cell_type": "code",
   "execution_count": 32,
   "metadata": {},
   "outputs": [
    {
     "name": "stdout",
     "output_type": "stream",
     "text": [
      "INFO:tensorflow:Assets written to: hybrid_model/assets\n"
     ]
    },
    {
     "name": "stderr",
     "output_type": "stream",
     "text": [
      "2022-04-08 15:09:58.723218: W tensorflow/python/util/util.cc:368] Sets are not currently considered sequences, but this may change in the future, so consider avoiding using them.\n"
     ]
    }
   ],
   "source": [
    "model.save(\"hybrid_model\")"
   ]
  },
  {
   "cell_type": "code",
   "execution_count": null,
   "metadata": {},
   "outputs": [],
   "source": []
  }
 ],
 "metadata": {
  "kernelspec": {
   "display_name": "Python 3 (ipykernel)",
   "language": "python",
   "name": "python3"
  },
  "orig_nbformat": 4
 },
 "nbformat": 4,
 "nbformat_minor": 2
}
