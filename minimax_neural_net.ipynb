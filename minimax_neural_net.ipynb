{
 "cells": [
  {
   "cell_type": "code",
   "execution_count": 2,
   "id": "1f3b806e",
   "metadata": {},
   "outputs": [],
   "source": [
    "import pandas as pd\n",
    "import numpy as np\n",
    "from sklearn.model_selection import train_test_split\n",
    "import keras\n",
    "import random\n",
    "import csv\n",
    "import ast"
   ]
  },
  {
   "cell_type": "code",
   "execution_count": 3,
   "id": "66f28dbc",
   "metadata": {},
   "outputs": [],
   "source": [
    "df = pd.read_csv('data/minimax_moves.csv')"
   ]
  },
  {
   "cell_type": "code",
   "execution_count": 4,
   "id": "8732d92a",
   "metadata": {},
   "outputs": [],
   "source": [
    "df[\"state\"] = df[\"state\"].apply(lambda x: ast.literal_eval(x))"
   ]
  },
  {
   "cell_type": "code",
   "execution_count": 5,
   "id": "a39aa7b7",
   "metadata": {},
   "outputs": [],
   "source": [
    "df[\"action\"] = df[\"action\"].apply(lambda x: np.array(ast.literal_eval(x)))"
   ]
  },
  {
   "cell_type": "code",
   "execution_count": 6,
   "id": "06a752bd",
   "metadata": {},
   "outputs": [],
   "source": [
    "train_data, test_data = train_test_split(df, test_size=0.05, random_state=42)"
   ]
  },
  {
   "cell_type": "code",
   "execution_count": 7,
   "id": "1ea2fc72",
   "metadata": {},
   "outputs": [],
   "source": [
    "train_data_x_label  = train_data['state']\n",
    "train_data_y_label = train_data['action']"
   ]
  },
  {
   "cell_type": "code",
   "execution_count": 8,
   "id": "7243469b",
   "metadata": {},
   "outputs": [],
   "source": [
    "train_values = []\n",
    "\n",
    "for x in train_data_x_label.values:\n",
    "    train_values.append(x)\n",
    "\n",
    "train_values = np.array(train_values)"
   ]
  },
  {
   "cell_type": "code",
   "execution_count": 9,
   "id": "ade243cb",
   "metadata": {},
   "outputs": [
    {
     "data": {
      "text/plain": [
       "(30747, 20)"
      ]
     },
     "execution_count": 9,
     "metadata": {},
     "output_type": "execute_result"
    }
   ],
   "source": [
    "train_values.shape"
   ]
  },
  {
   "cell_type": "code",
   "execution_count": 10,
   "id": "52d9d1e9",
   "metadata": {},
   "outputs": [],
   "source": [
    "train_values_y = []\n",
    "\n",
    "for x in train_data_y_label.values:\n",
    "    train_values_y.append(x)\n",
    "\n",
    "train_values_y = np.array(train_values_y)"
   ]
  },
  {
   "cell_type": "code",
   "execution_count": 11,
   "id": "f150786b",
   "metadata": {},
   "outputs": [
    {
     "data": {
      "text/plain": [
       "(30747, 5)"
      ]
     },
     "execution_count": 11,
     "metadata": {},
     "output_type": "execute_result"
    }
   ],
   "source": [
    "train_values_y.shape"
   ]
  },
  {
   "cell_type": "code",
   "execution_count": 13,
   "id": "d1c9014a",
   "metadata": {},
   "outputs": [
    {
     "name": "stdout",
     "output_type": "stream",
     "text": [
      "Epoch 1/75\n",
      " 17/961 [..............................] - ETA: 6s - loss: 1.7173 - accuracy: 0.2463"
     ]
    },
    {
     "name": "stderr",
     "output_type": "stream",
     "text": [
      "2022-04-06 15:44:15.954213: I tensorflow/core/grappler/optimizers/custom_graph_optimizer_registry.cc:113] Plugin optimizer for device_type GPU is enabled.\n"
     ]
    },
    {
     "name": "stdout",
     "output_type": "stream",
     "text": [
      "961/961 [==============================] - 7s 7ms/step - loss: 1.3160 - accuracy: 0.4633\n",
      "Epoch 2/75\n",
      "961/961 [==============================] - 6s 7ms/step - loss: 1.0277 - accuracy: 0.5829\n",
      "Epoch 3/75\n",
      "961/961 [==============================] - 6s 7ms/step - loss: 0.9309 - accuracy: 0.6114\n",
      "Epoch 4/75\n",
      "961/961 [==============================] - 6s 7ms/step - loss: 0.8805 - accuracy: 0.6290\n",
      "Epoch 5/75\n",
      "961/961 [==============================] - 6s 6ms/step - loss: 0.8497 - accuracy: 0.6439\n",
      "Epoch 6/75\n",
      "961/961 [==============================] - 6s 6ms/step - loss: 0.8270 - accuracy: 0.6546\n",
      "Epoch 7/75\n",
      "961/961 [==============================] - 6s 6ms/step - loss: 0.8091 - accuracy: 0.6638\n",
      "Epoch 8/75\n",
      "961/961 [==============================] - 6s 6ms/step - loss: 0.7926 - accuracy: 0.6697\n",
      "Epoch 9/75\n",
      "961/961 [==============================] - 6s 6ms/step - loss: 0.7783 - accuracy: 0.6781\n",
      "Epoch 10/75\n",
      "961/961 [==============================] - 6s 6ms/step - loss: 0.7669 - accuracy: 0.6773\n",
      "Epoch 11/75\n",
      "961/961 [==============================] - 6s 6ms/step - loss: 0.7576 - accuracy: 0.6834\n",
      "Epoch 12/75\n",
      "961/961 [==============================] - 6s 6ms/step - loss: 0.7484 - accuracy: 0.6847\n",
      "Epoch 13/75\n",
      "961/961 [==============================] - 6s 7ms/step - loss: 0.7403 - accuracy: 0.6886\n",
      "Epoch 14/75\n",
      "961/961 [==============================] - 6s 6ms/step - loss: 0.7325 - accuracy: 0.6904\n",
      "Epoch 15/75\n",
      "961/961 [==============================] - 6s 6ms/step - loss: 0.7250 - accuracy: 0.6948\n",
      "Epoch 16/75\n",
      "961/961 [==============================] - 6s 6ms/step - loss: 0.7196 - accuracy: 0.6991\n",
      "Epoch 17/75\n",
      "961/961 [==============================] - 6s 6ms/step - loss: 0.7125 - accuracy: 0.6995\n",
      "Epoch 18/75\n",
      "961/961 [==============================] - 6s 6ms/step - loss: 0.7065 - accuracy: 0.7036\n",
      "Epoch 19/75\n",
      "961/961 [==============================] - 6s 6ms/step - loss: 0.7005 - accuracy: 0.7065\n",
      "Epoch 20/75\n",
      "961/961 [==============================] - 6s 6ms/step - loss: 0.6961 - accuracy: 0.7096\n",
      "Epoch 21/75\n",
      "961/961 [==============================] - 6s 6ms/step - loss: 0.6903 - accuracy: 0.7133\n",
      "Epoch 22/75\n",
      "961/961 [==============================] - 6s 6ms/step - loss: 0.6846 - accuracy: 0.7167\n",
      "Epoch 23/75\n",
      "961/961 [==============================] - 6s 6ms/step - loss: 0.6815 - accuracy: 0.7184\n",
      "Epoch 24/75\n",
      "961/961 [==============================] - 6s 6ms/step - loss: 0.6769 - accuracy: 0.7192\n",
      "Epoch 25/75\n",
      "961/961 [==============================] - 6s 6ms/step - loss: 0.6737 - accuracy: 0.7237\n",
      "Epoch 26/75\n",
      "961/961 [==============================] - 6s 6ms/step - loss: 0.6700 - accuracy: 0.7228\n",
      "Epoch 27/75\n",
      "961/961 [==============================] - 6s 6ms/step - loss: 0.6679 - accuracy: 0.7204\n",
      "Epoch 28/75\n",
      "961/961 [==============================] - 6s 7ms/step - loss: 0.6663 - accuracy: 0.7213\n",
      "Epoch 29/75\n",
      "961/961 [==============================] - 6s 7ms/step - loss: 0.6630 - accuracy: 0.7245\n",
      "Epoch 30/75\n",
      "961/961 [==============================] - 6s 7ms/step - loss: 0.6619 - accuracy: 0.7229\n",
      "Epoch 31/75\n",
      "961/961 [==============================] - 6s 7ms/step - loss: 0.6593 - accuracy: 0.7237\n",
      "Epoch 32/75\n",
      "961/961 [==============================] - 6s 7ms/step - loss: 0.6579 - accuracy: 0.7230\n",
      "Epoch 33/75\n",
      "961/961 [==============================] - 6s 7ms/step - loss: 0.6542 - accuracy: 0.7254\n",
      "Epoch 34/75\n",
      "961/961 [==============================] - 6s 7ms/step - loss: 0.6528 - accuracy: 0.7253\n",
      "Epoch 35/75\n",
      "961/961 [==============================] - 6s 7ms/step - loss: 0.6510 - accuracy: 0.7262\n",
      "Epoch 36/75\n",
      "961/961 [==============================] - 6s 7ms/step - loss: 0.6494 - accuracy: 0.7254\n",
      "Epoch 37/75\n",
      "961/961 [==============================] - 6s 7ms/step - loss: 0.6480 - accuracy: 0.7266\n",
      "Epoch 38/75\n",
      "961/961 [==============================] - 6s 7ms/step - loss: 0.6471 - accuracy: 0.7256\n",
      "Epoch 39/75\n",
      "961/961 [==============================] - 6s 7ms/step - loss: 0.6464 - accuracy: 0.7272\n",
      "Epoch 40/75\n",
      "961/961 [==============================] - 6s 7ms/step - loss: 0.6429 - accuracy: 0.7268\n",
      "Epoch 41/75\n",
      "961/961 [==============================] - 6s 7ms/step - loss: 0.6428 - accuracy: 0.7276\n",
      "Epoch 42/75\n",
      "961/961 [==============================] - 6s 7ms/step - loss: 0.6416 - accuracy: 0.7284\n",
      "Epoch 43/75\n",
      "961/961 [==============================] - 6s 7ms/step - loss: 0.6394 - accuracy: 0.7292\n",
      "Epoch 44/75\n",
      "961/961 [==============================] - 6s 7ms/step - loss: 0.6380 - accuracy: 0.7288\n",
      "Epoch 45/75\n",
      "961/961 [==============================] - 6s 7ms/step - loss: 0.6378 - accuracy: 0.7304\n",
      "Epoch 46/75\n",
      "961/961 [==============================] - 6s 7ms/step - loss: 0.6362 - accuracy: 0.7310\n",
      "Epoch 47/75\n",
      "961/961 [==============================] - 6s 7ms/step - loss: 0.6338 - accuracy: 0.7292\n",
      "Epoch 48/75\n",
      "961/961 [==============================] - 6s 7ms/step - loss: 0.6331 - accuracy: 0.7333\n",
      "Epoch 49/75\n",
      "961/961 [==============================] - 6s 7ms/step - loss: 0.6313 - accuracy: 0.7338\n",
      "Epoch 50/75\n",
      "961/961 [==============================] - 6s 7ms/step - loss: 0.6299 - accuracy: 0.7336\n",
      "Epoch 51/75\n",
      "961/961 [==============================] - 6s 7ms/step - loss: 0.6292 - accuracy: 0.7337\n",
      "Epoch 52/75\n",
      "961/961 [==============================] - 6s 7ms/step - loss: 0.6287 - accuracy: 0.7331\n",
      "Epoch 53/75\n",
      "961/961 [==============================] - 6s 7ms/step - loss: 0.6271 - accuracy: 0.7344\n",
      "Epoch 54/75\n",
      "961/961 [==============================] - 6s 7ms/step - loss: 0.6259 - accuracy: 0.7360\n",
      "Epoch 55/75\n",
      "961/961 [==============================] - 6s 7ms/step - loss: 0.6259 - accuracy: 0.7354\n",
      "Epoch 56/75\n",
      "961/961 [==============================] - 6s 7ms/step - loss: 0.6236 - accuracy: 0.7366\n",
      "Epoch 57/75\n",
      "961/961 [==============================] - 6s 7ms/step - loss: 0.6231 - accuracy: 0.7363\n",
      "Epoch 58/75\n",
      "961/961 [==============================] - 6s 7ms/step - loss: 0.6211 - accuracy: 0.7370\n",
      "Epoch 59/75\n",
      "961/961 [==============================] - 6s 7ms/step - loss: 0.6192 - accuracy: 0.7392\n",
      "Epoch 60/75\n",
      "961/961 [==============================] - 6s 7ms/step - loss: 0.6191 - accuracy: 0.7368\n",
      "Epoch 61/75\n",
      "961/961 [==============================] - 6s 7ms/step - loss: 0.6181 - accuracy: 0.7377\n",
      "Epoch 62/75\n",
      "961/961 [==============================] - 6s 7ms/step - loss: 0.6172 - accuracy: 0.7398\n",
      "Epoch 63/75\n",
      "961/961 [==============================] - 6s 7ms/step - loss: 0.6160 - accuracy: 0.7373\n",
      "Epoch 64/75\n",
      "961/961 [==============================] - 6s 7ms/step - loss: 0.6150 - accuracy: 0.7395\n",
      "Epoch 65/75\n",
      "961/961 [==============================] - 6s 7ms/step - loss: 0.6142 - accuracy: 0.7401\n",
      "Epoch 66/75\n",
      "961/961 [==============================] - 6s 7ms/step - loss: 0.6117 - accuracy: 0.7398\n",
      "Epoch 67/75\n",
      "961/961 [==============================] - 6s 7ms/step - loss: 0.6124 - accuracy: 0.7394\n",
      "Epoch 68/75\n",
      "961/961 [==============================] - 6s 7ms/step - loss: 0.6102 - accuracy: 0.7404\n",
      "Epoch 69/75\n",
      "961/961 [==============================] - 6s 7ms/step - loss: 0.6082 - accuracy: 0.7409\n",
      "Epoch 70/75\n",
      "961/961 [==============================] - 6s 7ms/step - loss: 0.6095 - accuracy: 0.7409\n",
      "Epoch 71/75\n",
      "961/961 [==============================] - 6s 7ms/step - loss: 0.6088 - accuracy: 0.7406\n",
      "Epoch 72/75\n",
      "961/961 [==============================] - 6s 7ms/step - loss: 0.6070 - accuracy: 0.7415\n",
      "Epoch 73/75\n",
      "961/961 [==============================] - 6s 7ms/step - loss: 0.6053 - accuracy: 0.7432\n",
      "Epoch 74/75\n",
      "961/961 [==============================] - 6s 7ms/step - loss: 0.6070 - accuracy: 0.7405\n",
      "Epoch 75/75\n",
      "961/961 [==============================] - 6s 7ms/step - loss: 0.6051 - accuracy: 0.7427\n"
     ]
    },
    {
     "data": {
      "text/plain": [
       "<keras.callbacks.History at 0x2932b7f40>"
      ]
     },
     "execution_count": 13,
     "metadata": {},
     "output_type": "execute_result"
    }
   ],
   "source": [
    "from tensorflow.keras.models import Sequential\n",
    "from tensorflow.keras.layers import Dense, Activation\n",
    "import tensorflow\n",
    "\n",
    "model = Sequential()\n",
    "model.add(Dense(15, input_dim=train_values.shape[1], activation='relu'))\n",
    "model.add(Dense(10, activation='relu'))\n",
    "model.add(Dense(train_values_y.shape[1], activation='softmax'))\n",
    "model.compile(loss='categorical_crossentropy', optimizer=\"adam\", metrics='accuracy')\n",
    "model.fit(train_values,train_values_y,verbose=1,epochs=75)"
   ]
  },
  {
   "cell_type": "code",
   "execution_count": 14,
   "id": "06889ec0",
   "metadata": {},
   "outputs": [
    {
     "name": "stdout",
     "output_type": "stream",
     "text": [
      "INFO:tensorflow:Assets written to: minimax_neural_75/assets\n"
     ]
    },
    {
     "name": "stderr",
     "output_type": "stream",
     "text": [
      "2022-04-06 15:52:12.240772: W tensorflow/python/util/util.cc:368] Sets are not currently considered sequences, but this may change in the future, so consider avoiding using them.\n"
     ]
    }
   ],
   "source": [
    "model.save(\"minimax_neural_75\")"
   ]
  },
  {
   "cell_type": "code",
   "execution_count": null,
   "id": "6c144d1d",
   "metadata": {},
   "outputs": [],
   "source": []
  }
 ],
 "metadata": {
  "kernelspec": {
   "display_name": "Python 3.9.10 ('env_tf')",
   "language": "python",
   "name": "python3910jvsc74a57bd0e4ea300f43ed5dc298ec7dac4e1e84827dee6c529d41bba19ebf078b2615c49c"
  },
  "language_info": {
   "codemirror_mode": {
    "name": "ipython",
    "version": 3
   },
   "file_extension": ".py",
   "mimetype": "text/x-python",
   "name": "python",
   "nbconvert_exporter": "python",
   "pygments_lexer": "ipython3",
   "version": "3.9.10"
  }
 },
 "nbformat": 4,
 "nbformat_minor": 5
}
