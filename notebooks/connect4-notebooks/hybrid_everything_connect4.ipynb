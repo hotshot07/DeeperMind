{
 "cells": [
  {
   "cell_type": "code",
   "execution_count": 1,
   "metadata": {},
   "outputs": [],
   "source": [
    "import pandas as pd\n",
    "import numpy as np\n",
    "from sklearn.model_selection import train_test_split\n",
    "import keras\n",
    "import random\n",
    "import csv\n",
    "import ast"
   ]
  },
  {
   "cell_type": "code",
   "execution_count": 2,
   "metadata": {},
   "outputs": [],
   "source": [
    "df1 = pd.read_csv('../../data/dfs_moves.csv')"
   ]
  },
  {
   "cell_type": "code",
   "execution_count": 3,
   "metadata": {},
   "outputs": [],
   "source": [
    "df2 = pd.read_csv('../../data/bfs_moves.csv')"
   ]
  },
  {
   "cell_type": "code",
   "execution_count": 4,
   "metadata": {},
   "outputs": [],
   "source": [
    "df3 = pd.read_csv('../../data/minimax_moves.csv')"
   ]
  },
  {
   "cell_type": "code",
   "execution_count": 5,
   "metadata": {},
   "outputs": [],
   "source": [
    "df1_small = df1.sample(n=7774)"
   ]
  },
  {
   "cell_type": "code",
   "execution_count": 8,
   "metadata": {},
   "outputs": [],
   "source": [
    "df2_small = df2.sample(n=7774)"
   ]
  },
  {
   "cell_type": "code",
   "execution_count": 9,
   "metadata": {},
   "outputs": [],
   "source": [
    "merged_df = pd.concat([df1_small, df2_small, df3], axis=0)"
   ]
  },
  {
   "cell_type": "code",
   "execution_count": 10,
   "metadata": {},
   "outputs": [
    {
     "data": {
      "text/plain": [
       "(23322, 2)"
      ]
     },
     "execution_count": 10,
     "metadata": {},
     "output_type": "execute_result"
    }
   ],
   "source": [
    "merged_df.shape"
   ]
  },
  {
   "cell_type": "code",
   "execution_count": 12,
   "metadata": {},
   "outputs": [],
   "source": [
    "merged_df[\"state\"] = merged_df[\"state\"].apply(lambda x: ast.literal_eval(x))\n",
    "merged_df[\"action\"] = merged_df[\"action\"].apply(lambda x: np.array(ast.literal_eval(x)))"
   ]
  },
  {
   "cell_type": "code",
   "execution_count": 13,
   "metadata": {},
   "outputs": [],
   "source": [
    "train_data_x_label  = merged_df['state']\n",
    "train_data_y_label = merged_df['action']"
   ]
  },
  {
   "cell_type": "code",
   "execution_count": 14,
   "metadata": {},
   "outputs": [],
   "source": [
    "train_values = []\n",
    "\n",
    "for x in train_data_x_label.values:\n",
    "    train_values.append(x)\n",
    "\n",
    "train_values = np.array(train_values)"
   ]
  },
  {
   "cell_type": "code",
   "execution_count": 15,
   "metadata": {},
   "outputs": [],
   "source": [
    "train_values_y = []\n",
    "\n",
    "for x in train_data_y_label.values:\n",
    "    train_values_y.append(x)\n",
    "\n",
    "train_values_y = np.array(train_values_y)"
   ]
  },
  {
   "cell_type": "code",
   "execution_count": 16,
   "metadata": {},
   "outputs": [
    {
     "name": "stdout",
     "output_type": "stream",
     "text": [
      "Metal device set to: Apple M1 Pro\n",
      "Epoch 1/50\n"
     ]
    },
    {
     "name": "stderr",
     "output_type": "stream",
     "text": [
      "2022-04-10 03:13:08.982240: I tensorflow/core/common_runtime/pluggable_device/pluggable_device_factory.cc:305] Could not identify NUMA node of platform GPU ID 0, defaulting to 0. Your kernel may not have been built with NUMA support.\n",
      "2022-04-10 03:13:08.982351: I tensorflow/core/common_runtime/pluggable_device/pluggable_device_factory.cc:271] Created TensorFlow device (/job:localhost/replica:0/task:0/device:GPU:0 with 0 MB memory) -> physical PluggableDevice (device: 0, name: METAL, pci bus id: <undefined>)\n",
      "2022-04-10 03:13:09.051325: W tensorflow/core/platform/profile_utils/cpu_utils.cc:128] Failed to get CPU frequency: 0 Hz\n",
      "2022-04-10 03:13:09.165928: I tensorflow/core/grappler/optimizers/custom_graph_optimizer_registry.cc:113] Plugin optimizer for device_type GPU is enabled.\n"
     ]
    },
    {
     "name": "stdout",
     "output_type": "stream",
     "text": [
      "729/729 [==============================] - 5s 7ms/step - loss: 1.6229 - accuracy: 0.3865\n",
      "Epoch 2/50\n",
      "729/729 [==============================] - 5s 7ms/step - loss: 1.3946 - accuracy: 0.4691\n",
      "Epoch 3/50\n",
      "729/729 [==============================] - 5s 7ms/step - loss: 1.3218 - accuracy: 0.4966\n",
      "Epoch 4/50\n",
      "729/729 [==============================] - 5s 7ms/step - loss: 1.2712 - accuracy: 0.5081\n",
      "Epoch 5/50\n",
      "729/729 [==============================] - 5s 7ms/step - loss: 1.2286 - accuracy: 0.5234\n",
      "Epoch 6/50\n",
      "729/729 [==============================] - 5s 7ms/step - loss: 1.1923 - accuracy: 0.5346\n",
      "Epoch 7/50\n",
      "729/729 [==============================] - 5s 7ms/step - loss: 1.1622 - accuracy: 0.5500\n",
      "Epoch 8/50\n",
      "729/729 [==============================] - 5s 7ms/step - loss: 1.1383 - accuracy: 0.5581\n",
      "Epoch 9/50\n",
      "729/729 [==============================] - 5s 7ms/step - loss: 1.1181 - accuracy: 0.5645\n",
      "Epoch 10/50\n",
      "729/729 [==============================] - 5s 7ms/step - loss: 1.1021 - accuracy: 0.5677\n",
      "Epoch 11/50\n",
      "729/729 [==============================] - 5s 7ms/step - loss: 1.0903 - accuracy: 0.5704\n",
      "Epoch 12/50\n",
      "729/729 [==============================] - 5s 7ms/step - loss: 1.0804 - accuracy: 0.5734\n",
      "Epoch 13/50\n",
      "729/729 [==============================] - 5s 7ms/step - loss: 1.0701 - accuracy: 0.5772\n",
      "Epoch 14/50\n",
      "729/729 [==============================] - 5s 7ms/step - loss: 1.0622 - accuracy: 0.5799\n",
      "Epoch 15/50\n",
      "729/729 [==============================] - 5s 7ms/step - loss: 1.0549 - accuracy: 0.5811\n",
      "Epoch 16/50\n",
      "729/729 [==============================] - 5s 7ms/step - loss: 1.0493 - accuracy: 0.5829\n",
      "Epoch 17/50\n",
      "729/729 [==============================] - 5s 7ms/step - loss: 1.0431 - accuracy: 0.5863\n",
      "Epoch 18/50\n",
      "729/729 [==============================] - 5s 7ms/step - loss: 1.0374 - accuracy: 0.5858\n",
      "Epoch 19/50\n",
      "729/729 [==============================] - 5s 7ms/step - loss: 1.0330 - accuracy: 0.5878\n",
      "Epoch 20/50\n",
      "729/729 [==============================] - 5s 7ms/step - loss: 1.0277 - accuracy: 0.5899\n",
      "Epoch 21/50\n",
      "729/729 [==============================] - 5s 7ms/step - loss: 1.0249 - accuracy: 0.5889\n",
      "Epoch 22/50\n",
      "729/729 [==============================] - 5s 7ms/step - loss: 1.0202 - accuracy: 0.5927\n",
      "Epoch 23/50\n",
      "729/729 [==============================] - 5s 7ms/step - loss: 1.0166 - accuracy: 0.5919\n",
      "Epoch 24/50\n",
      "729/729 [==============================] - 5s 7ms/step - loss: 1.0128 - accuracy: 0.5942\n",
      "Epoch 25/50\n",
      "729/729 [==============================] - 5s 7ms/step - loss: 1.0102 - accuracy: 0.5934\n",
      "Epoch 26/50\n",
      "729/729 [==============================] - 5s 7ms/step - loss: 1.0072 - accuracy: 0.5966\n",
      "Epoch 27/50\n",
      "729/729 [==============================] - 5s 7ms/step - loss: 1.0043 - accuracy: 0.5966\n",
      "Epoch 28/50\n",
      "729/729 [==============================] - 5s 7ms/step - loss: 1.0011 - accuracy: 0.5970\n",
      "Epoch 29/50\n",
      "729/729 [==============================] - 5s 7ms/step - loss: 0.9995 - accuracy: 0.5970\n",
      "Epoch 30/50\n",
      "729/729 [==============================] - 5s 7ms/step - loss: 0.9972 - accuracy: 0.5990\n",
      "Epoch 31/50\n",
      "729/729 [==============================] - 5s 7ms/step - loss: 0.9953 - accuracy: 0.5997\n",
      "Epoch 32/50\n",
      "729/729 [==============================] - 5s 7ms/step - loss: 0.9945 - accuracy: 0.6028\n",
      "Epoch 33/50\n",
      "729/729 [==============================] - 5s 7ms/step - loss: 0.9917 - accuracy: 0.6039\n",
      "Epoch 34/50\n",
      "729/729 [==============================] - 5s 7ms/step - loss: 0.9902 - accuracy: 0.6017\n",
      "Epoch 35/50\n",
      "729/729 [==============================] - 5s 7ms/step - loss: 0.9892 - accuracy: 0.6038\n",
      "Epoch 36/50\n",
      "729/729 [==============================] - 5s 7ms/step - loss: 0.9867 - accuracy: 0.6034\n",
      "Epoch 37/50\n",
      "729/729 [==============================] - 5s 7ms/step - loss: 0.9857 - accuracy: 0.6029\n",
      "Epoch 38/50\n",
      "729/729 [==============================] - 5s 7ms/step - loss: 0.9836 - accuracy: 0.6064\n",
      "Epoch 39/50\n",
      "729/729 [==============================] - 5s 7ms/step - loss: 0.9819 - accuracy: 0.6064\n",
      "Epoch 40/50\n",
      "729/729 [==============================] - 5s 7ms/step - loss: 0.9814 - accuracy: 0.6067\n",
      "Epoch 41/50\n",
      "729/729 [==============================] - 5s 7ms/step - loss: 0.9794 - accuracy: 0.6057\n",
      "Epoch 42/50\n",
      "729/729 [==============================] - 5s 7ms/step - loss: 0.9782 - accuracy: 0.6070\n",
      "Epoch 43/50\n",
      "729/729 [==============================] - 5s 7ms/step - loss: 0.9767 - accuracy: 0.6081\n",
      "Epoch 44/50\n",
      "729/729 [==============================] - 5s 7ms/step - loss: 0.9751 - accuracy: 0.6075\n",
      "Epoch 45/50\n",
      "729/729 [==============================] - 5s 7ms/step - loss: 0.9736 - accuracy: 0.6096\n",
      "Epoch 46/50\n",
      "729/729 [==============================] - 5s 7ms/step - loss: 0.9738 - accuracy: 0.6093\n",
      "Epoch 47/50\n",
      "729/729 [==============================] - 5s 7ms/step - loss: 0.9715 - accuracy: 0.6087\n",
      "Epoch 48/50\n",
      "729/729 [==============================] - 5s 7ms/step - loss: 0.9708 - accuracy: 0.6091\n",
      "Epoch 49/50\n",
      "729/729 [==============================] - 5s 7ms/step - loss: 0.9688 - accuracy: 0.6090\n",
      "Epoch 50/50\n",
      "729/729 [==============================] - 5s 7ms/step - loss: 0.9689 - accuracy: 0.6093\n"
     ]
    },
    {
     "data": {
      "text/plain": [
       "<keras.callbacks.History at 0x16a4563d0>"
      ]
     },
     "execution_count": 16,
     "metadata": {},
     "output_type": "execute_result"
    }
   ],
   "source": [
    "from tensorflow.keras.models import Sequential\n",
    "from tensorflow.keras.layers import Dense, Activation\n",
    "import tensorflow\n",
    "\n",
    "model = Sequential()\n",
    "model.add(Dense(15, input_dim=train_values.shape[1], activation='relu'))\n",
    "model.add(Dense(10, activation='relu'))\n",
    "model.add(Dense(train_values_y.shape[1], activation='softmax'))\n",
    "model.compile(loss='categorical_crossentropy', optimizer=\"adam\", metrics='accuracy')\n",
    "model.fit(train_values,train_values_y,verbose=1,epochs=50)"
   ]
  },
  {
   "cell_type": "code",
   "execution_count": 17,
   "metadata": {},
   "outputs": [
    {
     "name": "stdout",
     "output_type": "stream",
     "text": [
      "INFO:tensorflow:Assets written to: hybrid_everything_model_connect4/assets\n"
     ]
    },
    {
     "name": "stderr",
     "output_type": "stream",
     "text": [
      "2022-04-10 03:17:56.741047: W tensorflow/python/util/util.cc:368] Sets are not currently considered sequences, but this may change in the future, so consider avoiding using them.\n"
     ]
    }
   ],
   "source": [
    "model.save(\"hybrid_everything_model_connect4\")"
   ]
  },
  {
   "cell_type": "code",
   "execution_count": null,
   "metadata": {},
   "outputs": [],
   "source": []
  }
 ],
 "metadata": {
  "kernelspec": {
   "display_name": "Python 3 (ipykernel)",
   "language": "python",
   "name": "python3"
  },
  "language_info": {
   "codemirror_mode": {
    "name": "ipython",
    "version": 3
   },
   "file_extension": ".py",
   "mimetype": "text/x-python",
   "name": "python",
   "nbconvert_exporter": "python",
   "pygments_lexer": "ipython3",
   "version": "3.9.10"
  },
  "orig_nbformat": 4
 },
 "nbformat": 4,
 "nbformat_minor": 2
}
