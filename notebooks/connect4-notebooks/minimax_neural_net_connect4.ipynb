{
 "cells": [
  {
   "cell_type": "code",
   "execution_count": 1,
   "id": "1f3b806e",
   "metadata": {},
   "outputs": [],
   "source": [
    "import pandas as pd\n",
    "import numpy as np\n",
    "from sklearn.model_selection import train_test_split\n",
    "import keras\n",
    "import random\n",
    "import csv\n",
    "import ast"
   ]
  },
  {
   "cell_type": "code",
   "execution_count": 4,
   "id": "66f28dbc",
   "metadata": {},
   "outputs": [],
   "source": [
    "df = pd.read_csv('../../data/minimax_moves.csv')"
   ]
  },
  {
   "cell_type": "code",
   "execution_count": 5,
   "id": "8732d92a",
   "metadata": {},
   "outputs": [],
   "source": [
    "df[\"state\"] = df[\"state\"].apply(lambda x: ast.literal_eval(x))"
   ]
  },
  {
   "cell_type": "code",
   "execution_count": 6,
   "id": "a39aa7b7",
   "metadata": {},
   "outputs": [],
   "source": [
    "df[\"action\"] = df[\"action\"].apply(lambda x: np.array(ast.literal_eval(x)))"
   ]
  },
  {
   "cell_type": "code",
   "execution_count": 7,
   "id": "1ea2fc72",
   "metadata": {},
   "outputs": [],
   "source": [
    "train_data_x_label  = df['state']\n",
    "train_data_y_label = df['action']"
   ]
  },
  {
   "cell_type": "code",
   "execution_count": 8,
   "id": "7243469b",
   "metadata": {},
   "outputs": [],
   "source": [
    "train_values = []\n",
    "\n",
    "for x in train_data_x_label.values:\n",
    "    train_values.append(x)\n",
    "\n",
    "train_values = np.array(train_values)"
   ]
  },
  {
   "cell_type": "code",
   "execution_count": 9,
   "id": "ade243cb",
   "metadata": {},
   "outputs": [
    {
     "data": {
      "text/plain": [
       "(7774, 42)"
      ]
     },
     "execution_count": 9,
     "metadata": {},
     "output_type": "execute_result"
    }
   ],
   "source": [
    "train_values.shape"
   ]
  },
  {
   "cell_type": "code",
   "execution_count": 10,
   "id": "52d9d1e9",
   "metadata": {},
   "outputs": [],
   "source": [
    "train_values_y = []\n",
    "\n",
    "for x in train_data_y_label.values:\n",
    "    train_values_y.append(x)\n",
    "\n",
    "train_values_y = np.array(train_values_y)"
   ]
  },
  {
   "cell_type": "code",
   "execution_count": 11,
   "id": "f150786b",
   "metadata": {},
   "outputs": [
    {
     "data": {
      "text/plain": [
       "(7774, 7)"
      ]
     },
     "execution_count": 11,
     "metadata": {},
     "output_type": "execute_result"
    }
   ],
   "source": [
    "train_values_y.shape"
   ]
  },
  {
   "cell_type": "code",
   "execution_count": 15,
   "id": "d1c9014a",
   "metadata": {},
   "outputs": [
    {
     "name": "stdout",
     "output_type": "stream",
     "text": [
      "Epoch 1/80\n",
      " 16/243 [>.............................] - ETA: 1s - loss: 2.0688 - accuracy: 0.1328"
     ]
    },
    {
     "name": "stderr",
     "output_type": "stream",
     "text": [
      "2022-04-10 02:39:43.293593: I tensorflow/core/grappler/optimizers/custom_graph_optimizer_registry.cc:113] Plugin optimizer for device_type GPU is enabled.\n"
     ]
    },
    {
     "name": "stdout",
     "output_type": "stream",
     "text": [
      "243/243 [==============================] - 2s 7ms/step - loss: 1.9201 - accuracy: 0.2094\n",
      "Epoch 2/80\n",
      "243/243 [==============================] - 2s 7ms/step - loss: 1.7723 - accuracy: 0.3108\n",
      "Epoch 3/80\n",
      "243/243 [==============================] - 2s 7ms/step - loss: 1.6593 - accuracy: 0.3517\n",
      "Epoch 4/80\n",
      "243/243 [==============================] - 2s 7ms/step - loss: 1.5999 - accuracy: 0.3712\n",
      "Epoch 5/80\n",
      "243/243 [==============================] - 2s 7ms/step - loss: 1.5550 - accuracy: 0.3864\n",
      "Epoch 6/80\n",
      "243/243 [==============================] - 2s 7ms/step - loss: 1.5203 - accuracy: 0.4026\n",
      "Epoch 7/80\n",
      "243/243 [==============================] - 2s 7ms/step - loss: 1.4901 - accuracy: 0.4197\n",
      "Epoch 8/80\n",
      "243/243 [==============================] - 2s 7ms/step - loss: 1.4648 - accuracy: 0.4343\n",
      "Epoch 9/80\n",
      "243/243 [==============================] - 2s 7ms/step - loss: 1.4418 - accuracy: 0.4466\n",
      "Epoch 10/80\n",
      "243/243 [==============================] - 2s 7ms/step - loss: 1.4222 - accuracy: 0.4492\n",
      "Epoch 11/80\n",
      "243/243 [==============================] - 2s 6ms/step - loss: 1.4044 - accuracy: 0.4617\n",
      "Epoch 12/80\n",
      "243/243 [==============================] - 2s 6ms/step - loss: 1.3886 - accuracy: 0.4730\n",
      "Epoch 13/80\n",
      "243/243 [==============================] - 2s 6ms/step - loss: 1.3715 - accuracy: 0.4812\n",
      "Epoch 14/80\n",
      "243/243 [==============================] - 2s 7ms/step - loss: 1.3542 - accuracy: 0.4857\n",
      "Epoch 15/80\n",
      "243/243 [==============================] - 2s 7ms/step - loss: 1.3401 - accuracy: 0.4907\n",
      "Epoch 16/80\n",
      "243/243 [==============================] - 2s 7ms/step - loss: 1.3253 - accuracy: 0.4933\n",
      "Epoch 17/80\n",
      "243/243 [==============================] - 2s 7ms/step - loss: 1.3114 - accuracy: 0.4932\n",
      "Epoch 18/80\n",
      "243/243 [==============================] - 2s 7ms/step - loss: 1.3011 - accuracy: 0.4999\n",
      "Epoch 19/80\n",
      "243/243 [==============================] - 2s 7ms/step - loss: 1.2907 - accuracy: 0.4997\n",
      "Epoch 20/80\n",
      "243/243 [==============================] - 2s 7ms/step - loss: 1.2826 - accuracy: 0.5080\n",
      "Epoch 21/80\n",
      "243/243 [==============================] - 2s 7ms/step - loss: 1.2726 - accuracy: 0.5114\n",
      "Epoch 22/80\n",
      "243/243 [==============================] - 2s 7ms/step - loss: 1.2631 - accuracy: 0.5135\n",
      "Epoch 23/80\n",
      "243/243 [==============================] - 2s 7ms/step - loss: 1.2551 - accuracy: 0.5154\n",
      "Epoch 24/80\n",
      "243/243 [==============================] - 2s 7ms/step - loss: 1.2480 - accuracy: 0.5184\n",
      "Epoch 25/80\n",
      "243/243 [==============================] - 2s 7ms/step - loss: 1.2454 - accuracy: 0.5151\n",
      "Epoch 26/80\n",
      "243/243 [==============================] - 2s 7ms/step - loss: 1.2384 - accuracy: 0.5217\n",
      "Epoch 27/80\n",
      "243/243 [==============================] - 2s 7ms/step - loss: 1.2284 - accuracy: 0.5223\n",
      "Epoch 28/80\n",
      "243/243 [==============================] - 2s 7ms/step - loss: 1.2273 - accuracy: 0.5223\n",
      "Epoch 29/80\n",
      "243/243 [==============================] - 2s 7ms/step - loss: 1.2210 - accuracy: 0.5199\n",
      "Epoch 30/80\n",
      "243/243 [==============================] - 2s 7ms/step - loss: 1.2157 - accuracy: 0.5264\n",
      "Epoch 31/80\n",
      "243/243 [==============================] - 2s 7ms/step - loss: 1.2139 - accuracy: 0.5269\n",
      "Epoch 32/80\n",
      "243/243 [==============================] - 2s 7ms/step - loss: 1.2073 - accuracy: 0.5275\n",
      "Epoch 33/80\n",
      "243/243 [==============================] - 2s 7ms/step - loss: 1.2044 - accuracy: 0.5306\n",
      "Epoch 34/80\n",
      "243/243 [==============================] - 2s 7ms/step - loss: 1.2013 - accuracy: 0.5337\n",
      "Epoch 35/80\n",
      "243/243 [==============================] - 2s 7ms/step - loss: 1.1975 - accuracy: 0.5310\n",
      "Epoch 36/80\n",
      "243/243 [==============================] - 2s 7ms/step - loss: 1.1955 - accuracy: 0.5307\n",
      "Epoch 37/80\n",
      "243/243 [==============================] - 2s 7ms/step - loss: 1.1931 - accuracy: 0.5316\n",
      "Epoch 38/80\n",
      "243/243 [==============================] - 2s 8ms/step - loss: 1.1874 - accuracy: 0.5356\n",
      "Epoch 39/80\n",
      "243/243 [==============================] - 2s 7ms/step - loss: 1.1868 - accuracy: 0.5346\n",
      "Epoch 40/80\n",
      "243/243 [==============================] - 2s 7ms/step - loss: 1.1822 - accuracy: 0.5373\n",
      "Epoch 41/80\n",
      "243/243 [==============================] - 2s 7ms/step - loss: 1.1796 - accuracy: 0.5379\n",
      "Epoch 42/80\n",
      "243/243 [==============================] - 2s 7ms/step - loss: 1.1781 - accuracy: 0.5394\n",
      "Epoch 43/80\n",
      "243/243 [==============================] - 2s 8ms/step - loss: 1.1759 - accuracy: 0.5391\n",
      "Epoch 44/80\n",
      "243/243 [==============================] - 2s 7ms/step - loss: 1.1715 - accuracy: 0.5406\n",
      "Epoch 45/80\n",
      "243/243 [==============================] - 2s 7ms/step - loss: 1.1718 - accuracy: 0.5406\n",
      "Epoch 46/80\n",
      "243/243 [==============================] - 2s 7ms/step - loss: 1.1691 - accuracy: 0.5408\n",
      "Epoch 47/80\n",
      "243/243 [==============================] - 2s 7ms/step - loss: 1.1666 - accuracy: 0.5410\n",
      "Epoch 48/80\n",
      "243/243 [==============================] - 2s 7ms/step - loss: 1.1617 - accuracy: 0.5466\n",
      "Epoch 49/80\n",
      "243/243 [==============================] - 2s 7ms/step - loss: 1.1639 - accuracy: 0.5440\n",
      "Epoch 50/80\n",
      "243/243 [==============================] - 2s 7ms/step - loss: 1.1614 - accuracy: 0.5452\n",
      "Epoch 51/80\n",
      "243/243 [==============================] - 2s 7ms/step - loss: 1.1575 - accuracy: 0.5489\n",
      "Epoch 52/80\n",
      "243/243 [==============================] - 2s 7ms/step - loss: 1.1573 - accuracy: 0.5489\n",
      "Epoch 53/80\n",
      "243/243 [==============================] - 2s 7ms/step - loss: 1.1563 - accuracy: 0.5518\n",
      "Epoch 54/80\n",
      "243/243 [==============================] - 2s 7ms/step - loss: 1.1561 - accuracy: 0.5482\n",
      "Epoch 55/80\n",
      "243/243 [==============================] - 2s 7ms/step - loss: 1.1513 - accuracy: 0.5498\n",
      "Epoch 56/80\n",
      "243/243 [==============================] - 2s 7ms/step - loss: 1.1494 - accuracy: 0.5518\n",
      "Epoch 57/80\n",
      "243/243 [==============================] - 2s 7ms/step - loss: 1.1509 - accuracy: 0.5522\n",
      "Epoch 58/80\n",
      "243/243 [==============================] - 2s 7ms/step - loss: 1.1488 - accuracy: 0.5517\n",
      "Epoch 59/80\n",
      "243/243 [==============================] - 2s 7ms/step - loss: 1.1455 - accuracy: 0.5525\n",
      "Epoch 60/80\n",
      "243/243 [==============================] - 2s 7ms/step - loss: 1.1424 - accuracy: 0.5538\n",
      "Epoch 61/80\n",
      "243/243 [==============================] - 2s 7ms/step - loss: 1.1422 - accuracy: 0.5518\n",
      "Epoch 62/80\n",
      "243/243 [==============================] - 2s 7ms/step - loss: 1.1410 - accuracy: 0.5540\n",
      "Epoch 63/80\n",
      "243/243 [==============================] - 2s 7ms/step - loss: 1.1413 - accuracy: 0.5503\n",
      "Epoch 64/80\n",
      "243/243 [==============================] - 2s 7ms/step - loss: 1.1412 - accuracy: 0.5534\n",
      "Epoch 65/80\n",
      "243/243 [==============================] - 2s 7ms/step - loss: 1.1357 - accuracy: 0.5529\n",
      "Epoch 66/80\n",
      "243/243 [==============================] - 2s 6ms/step - loss: 1.1357 - accuracy: 0.5581\n",
      "Epoch 67/80\n",
      "243/243 [==============================] - 2s 7ms/step - loss: 1.1347 - accuracy: 0.5580\n",
      "Epoch 68/80\n",
      "243/243 [==============================] - 2s 7ms/step - loss: 1.1309 - accuracy: 0.5603\n",
      "Epoch 69/80\n",
      "243/243 [==============================] - 2s 7ms/step - loss: 1.1320 - accuracy: 0.5560\n",
      "Epoch 70/80\n",
      "243/243 [==============================] - 2s 7ms/step - loss: 1.1277 - accuracy: 0.5606\n",
      "Epoch 71/80\n",
      "243/243 [==============================] - 2s 6ms/step - loss: 1.1284 - accuracy: 0.5606\n",
      "Epoch 72/80\n",
      "243/243 [==============================] - 2s 7ms/step - loss: 1.1273 - accuracy: 0.5605\n",
      "Epoch 73/80\n",
      "243/243 [==============================] - 2s 7ms/step - loss: 1.1286 - accuracy: 0.5657\n",
      "Epoch 74/80\n",
      "243/243 [==============================] - 2s 7ms/step - loss: 1.1233 - accuracy: 0.5593\n",
      "Epoch 75/80\n",
      "243/243 [==============================] - 2s 7ms/step - loss: 1.1257 - accuracy: 0.5615\n",
      "Epoch 76/80\n",
      "243/243 [==============================] - 2s 7ms/step - loss: 1.1223 - accuracy: 0.5680\n",
      "Epoch 77/80\n",
      "243/243 [==============================] - 2s 7ms/step - loss: 1.1190 - accuracy: 0.5633\n",
      "Epoch 78/80\n",
      "243/243 [==============================] - 2s 7ms/step - loss: 1.1196 - accuracy: 0.5633\n",
      "Epoch 79/80\n",
      "243/243 [==============================] - 2s 7ms/step - loss: 1.1202 - accuracy: 0.5662\n",
      "Epoch 80/80\n",
      "243/243 [==============================] - 2s 7ms/step - loss: 1.1188 - accuracy: 0.5669\n"
     ]
    },
    {
     "data": {
      "text/plain": [
       "<keras.callbacks.History at 0x17b135070>"
      ]
     },
     "execution_count": 15,
     "metadata": {},
     "output_type": "execute_result"
    }
   ],
   "source": [
    "from tensorflow.keras.models import Sequential\n",
    "from tensorflow.keras.layers import Dense, Activation\n",
    "import tensorflow\n",
    "\n",
    "model = Sequential()\n",
    "model.add(Dense(25, input_dim=train_values.shape[1], activation='relu'))\n",
    "model.add(Dense(10, activation='relu'))\n",
    "model.add(Dense(train_values_y.shape[1], activation='softmax'))\n",
    "model.compile(loss='categorical_crossentropy', optimizer=\"adam\", metrics='accuracy')\n",
    "model.fit(train_values,train_values_y,verbose=1,epochs=80)"
   ]
  },
  {
   "cell_type": "code",
   "execution_count": 16,
   "id": "06889ec0",
   "metadata": {},
   "outputs": [
    {
     "name": "stdout",
     "output_type": "stream",
     "text": [
      "INFO:tensorflow:Assets written to: minimax_neural_connect4/assets\n"
     ]
    },
    {
     "name": "stderr",
     "output_type": "stream",
     "text": [
      "2022-04-10 02:46:25.747871: W tensorflow/python/util/util.cc:368] Sets are not currently considered sequences, but this may change in the future, so consider avoiding using them.\n"
     ]
    }
   ],
   "source": [
    "model.save(\"minimax_neural_connect4\")"
   ]
  },
  {
   "cell_type": "code",
   "execution_count": null,
   "id": "6c144d1d",
   "metadata": {},
   "outputs": [],
   "source": []
  }
 ],
 "metadata": {
  "kernelspec": {
   "display_name": "Python 3 (ipykernel)",
   "language": "python",
   "name": "python3"
  },
  "language_info": {
   "codemirror_mode": {
    "name": "ipython",
    "version": 3
   },
   "file_extension": ".py",
   "mimetype": "text/x-python",
   "name": "python",
   "nbconvert_exporter": "python",
   "pygments_lexer": "ipython3",
   "version": "3.9.10"
  }
 },
 "nbformat": 4,
 "nbformat_minor": 5
}
