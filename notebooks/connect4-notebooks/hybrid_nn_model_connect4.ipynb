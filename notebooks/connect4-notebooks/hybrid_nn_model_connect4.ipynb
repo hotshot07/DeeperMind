{
 "cells": [
  {
   "cell_type": "code",
   "execution_count": 2,
   "metadata": {},
   "outputs": [],
   "source": [
    "import pandas as pd\n",
    "import numpy as np\n",
    "from sklearn.model_selection import train_test_split\n",
    "import keras\n",
    "import random\n",
    "import csv\n",
    "import ast"
   ]
  },
  {
   "cell_type": "code",
   "execution_count": 3,
   "metadata": {},
   "outputs": [],
   "source": [
    "df1 = pd.read_csv('../../data/dfs_moves.csv')"
   ]
  },
  {
   "cell_type": "code",
   "execution_count": 4,
   "metadata": {},
   "outputs": [],
   "source": [
    "df2 = pd.read_csv('../../data/minimax_moves.csv')"
   ]
  },
  {
   "cell_type": "code",
   "execution_count": 5,
   "metadata": {},
   "outputs": [
    {
     "data": {
      "text/plain": [
       "(44040, 2)"
      ]
     },
     "execution_count": 5,
     "metadata": {},
     "output_type": "execute_result"
    }
   ],
   "source": [
    "df1.shape"
   ]
  },
  {
   "cell_type": "code",
   "execution_count": 6,
   "metadata": {},
   "outputs": [
    {
     "data": {
      "text/plain": [
       "(7774, 2)"
      ]
     },
     "execution_count": 6,
     "metadata": {},
     "output_type": "execute_result"
    }
   ],
   "source": [
    "df2.shape"
   ]
  },
  {
   "cell_type": "code",
   "execution_count": 7,
   "metadata": {},
   "outputs": [],
   "source": [
    "df1_smaller = df1.iloc[:7774]"
   ]
  },
  {
   "cell_type": "code",
   "execution_count": 9,
   "metadata": {},
   "outputs": [
    {
     "data": {
      "text/plain": [
       "(7774, 2)"
      ]
     },
     "execution_count": 9,
     "metadata": {},
     "output_type": "execute_result"
    }
   ],
   "source": [
    "df1_smaller.shape"
   ]
  },
  {
   "cell_type": "code",
   "execution_count": 10,
   "metadata": {},
   "outputs": [],
   "source": [
    "merged_df = pd.concat([df1_smaller, df2], axis=0)"
   ]
  },
  {
   "cell_type": "code",
   "execution_count": 11,
   "metadata": {},
   "outputs": [],
   "source": [
    "merged_df[\"state\"] = merged_df[\"state\"].apply(lambda x: ast.literal_eval(x))\n",
    "merged_df[\"action\"] = merged_df[\"action\"].apply(lambda x: np.array(ast.literal_eval(x)))"
   ]
  },
  {
   "cell_type": "code",
   "execution_count": 12,
   "metadata": {},
   "outputs": [
    {
     "data": {
      "text/plain": [
       "(15548, 2)"
      ]
     },
     "execution_count": 12,
     "metadata": {},
     "output_type": "execute_result"
    }
   ],
   "source": [
    "merged_df.shape"
   ]
  },
  {
   "cell_type": "code",
   "execution_count": 13,
   "metadata": {},
   "outputs": [],
   "source": [
    "train_data_x_label  = merged_df['state']\n",
    "train_data_y_label = merged_df['action']"
   ]
  },
  {
   "cell_type": "code",
   "execution_count": 14,
   "metadata": {},
   "outputs": [],
   "source": [
    "train_values = []\n",
    "\n",
    "for x in train_data_x_label.values:\n",
    "    train_values.append(x)\n",
    "\n",
    "train_values = np.array(train_values)"
   ]
  },
  {
   "cell_type": "code",
   "execution_count": 15,
   "metadata": {},
   "outputs": [],
   "source": [
    "train_values_y = []\n",
    "\n",
    "for x in train_data_y_label.values:\n",
    "    train_values_y.append(x)\n",
    "\n",
    "train_values_y = np.array(train_values_y)"
   ]
  },
  {
   "cell_type": "code",
   "execution_count": 19,
   "metadata": {},
   "outputs": [
    {
     "name": "stdout",
     "output_type": "stream",
     "text": [
      "Epoch 1/50\n",
      " 16/486 [..............................] - ETA: 3s - loss: 1.9045 - accuracy: 0.3594"
     ]
    },
    {
     "name": "stderr",
     "output_type": "stream",
     "text": [
      "2022-04-10 02:46:07.602574: I tensorflow/core/grappler/optimizers/custom_graph_optimizer_registry.cc:113] Plugin optimizer for device_type GPU is enabled.\n"
     ]
    },
    {
     "name": "stdout",
     "output_type": "stream",
     "text": [
      "486/486 [==============================] - 3s 7ms/step - loss: 1.4865 - accuracy: 0.4535\n",
      "Epoch 2/50\n",
      "486/486 [==============================] - 3s 7ms/step - loss: 1.1793 - accuracy: 0.5383\n",
      "Epoch 3/50\n",
      "486/486 [==============================] - 3s 7ms/step - loss: 1.0739 - accuracy: 0.5843\n",
      "Epoch 4/50\n",
      "486/486 [==============================] - 3s 7ms/step - loss: 1.0142 - accuracy: 0.6009\n",
      "Epoch 5/50\n",
      "486/486 [==============================] - 3s 7ms/step - loss: 0.9718 - accuracy: 0.6174\n",
      "Epoch 6/50\n",
      "486/486 [==============================] - 3s 7ms/step - loss: 0.9385 - accuracy: 0.6342\n",
      "Epoch 7/50\n",
      "486/486 [==============================] - 3s 7ms/step - loss: 0.9122 - accuracy: 0.6471\n",
      "Epoch 8/50\n",
      "486/486 [==============================] - 3s 7ms/step - loss: 0.8915 - accuracy: 0.6574\n",
      "Epoch 9/50\n",
      "486/486 [==============================] - 3s 7ms/step - loss: 0.8752 - accuracy: 0.6629\n",
      "Epoch 10/50\n",
      "486/486 [==============================] - 3s 7ms/step - loss: 0.8601 - accuracy: 0.6661\n",
      "Epoch 11/50\n",
      "486/486 [==============================] - 3s 7ms/step - loss: 0.8499 - accuracy: 0.6690\n",
      "Epoch 12/50\n",
      "486/486 [==============================] - 3s 7ms/step - loss: 0.8415 - accuracy: 0.6698\n",
      "Epoch 13/50\n",
      "486/486 [==============================] - 3s 7ms/step - loss: 0.8328 - accuracy: 0.6733\n",
      "Epoch 14/50\n",
      "486/486 [==============================] - 3s 7ms/step - loss: 0.8258 - accuracy: 0.6742\n",
      "Epoch 15/50\n",
      "486/486 [==============================] - 3s 7ms/step - loss: 0.8193 - accuracy: 0.6771\n",
      "Epoch 16/50\n",
      "486/486 [==============================] - 3s 7ms/step - loss: 0.8138 - accuracy: 0.6784\n",
      "Epoch 17/50\n",
      "486/486 [==============================] - 3s 7ms/step - loss: 0.8077 - accuracy: 0.6829\n",
      "Epoch 18/50\n",
      "486/486 [==============================] - 3s 6ms/step - loss: 0.8028 - accuracy: 0.6845\n",
      "Epoch 19/50\n",
      "486/486 [==============================] - 3s 7ms/step - loss: 0.7993 - accuracy: 0.6822\n",
      "Epoch 20/50\n",
      "486/486 [==============================] - 3s 7ms/step - loss: 0.7951 - accuracy: 0.6877\n",
      "Epoch 21/50\n",
      "486/486 [==============================] - 3s 7ms/step - loss: 0.7910 - accuracy: 0.6872\n",
      "Epoch 22/50\n",
      "486/486 [==============================] - 3s 7ms/step - loss: 0.7887 - accuracy: 0.6888\n",
      "Epoch 23/50\n",
      "486/486 [==============================] - 3s 7ms/step - loss: 0.7850 - accuracy: 0.6872\n",
      "Epoch 24/50\n",
      "486/486 [==============================] - 3s 7ms/step - loss: 0.7833 - accuracy: 0.6907\n",
      "Epoch 25/50\n",
      "486/486 [==============================] - 3s 7ms/step - loss: 0.7827 - accuracy: 0.6892\n",
      "Epoch 26/50\n",
      "486/486 [==============================] - 3s 7ms/step - loss: 0.7791 - accuracy: 0.6905\n",
      "Epoch 27/50\n",
      "486/486 [==============================] - 3s 7ms/step - loss: 0.7767 - accuracy: 0.6924\n",
      "Epoch 28/50\n",
      "486/486 [==============================] - 3s 7ms/step - loss: 0.7744 - accuracy: 0.6917\n",
      "Epoch 29/50\n",
      "486/486 [==============================] - 3s 6ms/step - loss: 0.7733 - accuracy: 0.6933\n",
      "Epoch 30/50\n",
      "486/486 [==============================] - 3s 7ms/step - loss: 0.7727 - accuracy: 0.6911\n",
      "Epoch 31/50\n",
      "486/486 [==============================] - 3s 7ms/step - loss: 0.7703 - accuracy: 0.6948\n",
      "Epoch 32/50\n",
      "486/486 [==============================] - 3s 7ms/step - loss: 0.7666 - accuracy: 0.6963\n",
      "Epoch 33/50\n",
      "486/486 [==============================] - 3s 7ms/step - loss: 0.7665 - accuracy: 0.6957\n",
      "Epoch 34/50\n",
      "486/486 [==============================] - 3s 7ms/step - loss: 0.7662 - accuracy: 0.6952\n",
      "Epoch 35/50\n",
      "486/486 [==============================] - 3s 7ms/step - loss: 0.7640 - accuracy: 0.6977\n",
      "Epoch 36/50\n",
      "486/486 [==============================] - 3s 7ms/step - loss: 0.7631 - accuracy: 0.6969\n",
      "Epoch 37/50\n",
      "486/486 [==============================] - 3s 7ms/step - loss: 0.7632 - accuracy: 0.6968\n",
      "Epoch 38/50\n",
      "486/486 [==============================] - 3s 7ms/step - loss: 0.7594 - accuracy: 0.6989\n",
      "Epoch 39/50\n",
      "486/486 [==============================] - 3s 7ms/step - loss: 0.7599 - accuracy: 0.6957\n",
      "Epoch 40/50\n",
      "486/486 [==============================] - 3s 7ms/step - loss: 0.7580 - accuracy: 0.7006\n",
      "Epoch 41/50\n",
      "486/486 [==============================] - 3s 7ms/step - loss: 0.7574 - accuracy: 0.7022\n",
      "Epoch 42/50\n",
      "486/486 [==============================] - 3s 7ms/step - loss: 0.7562 - accuracy: 0.7015\n",
      "Epoch 43/50\n",
      "486/486 [==============================] - 3s 7ms/step - loss: 0.7568 - accuracy: 0.7003\n",
      "Epoch 44/50\n",
      "486/486 [==============================] - 3s 7ms/step - loss: 0.7539 - accuracy: 0.6997\n",
      "Epoch 45/50\n",
      "486/486 [==============================] - 3s 7ms/step - loss: 0.7537 - accuracy: 0.7037\n",
      "Epoch 46/50\n",
      "486/486 [==============================] - 3s 7ms/step - loss: 0.7518 - accuracy: 0.7034\n",
      "Epoch 47/50\n",
      "486/486 [==============================] - 3s 7ms/step - loss: 0.7520 - accuracy: 0.7019\n",
      "Epoch 48/50\n",
      "486/486 [==============================] - 3s 7ms/step - loss: 0.7519 - accuracy: 0.7039\n",
      "Epoch 49/50\n",
      "486/486 [==============================] - 3s 7ms/step - loss: 0.7519 - accuracy: 0.7021\n",
      "Epoch 50/50\n",
      "486/486 [==============================] - 3s 7ms/step - loss: 0.7485 - accuracy: 0.7042\n"
     ]
    },
    {
     "data": {
      "text/plain": [
       "<keras.callbacks.History at 0x2b5dbf250>"
      ]
     },
     "execution_count": 19,
     "metadata": {},
     "output_type": "execute_result"
    }
   ],
   "source": [
    "from tensorflow.keras.models import Sequential\n",
    "from tensorflow.keras.layers import Dense, Activation\n",
    "import tensorflow\n",
    "\n",
    "model = Sequential()\n",
    "model.add(Dense(15, input_dim=train_values.shape[1], activation='relu'))\n",
    "model.add(Dense(10, activation='relu'))\n",
    "model.add(Dense(train_values_y.shape[1], activation='softmax'))\n",
    "model.compile(loss='categorical_crossentropy', optimizer=\"adam\", metrics='accuracy')\n",
    "model.fit(train_values,train_values_y,verbose=1,epochs=50)"
   ]
  },
  {
   "cell_type": "code",
   "execution_count": 20,
   "metadata": {},
   "outputs": [
    {
     "name": "stdout",
     "output_type": "stream",
     "text": [
      "INFO:tensorflow:Assets written to: hybrid_model_connect4/assets\n"
     ]
    },
    {
     "name": "stderr",
     "output_type": "stream",
     "text": [
      "2022-04-10 02:50:12.356961: W tensorflow/python/util/util.cc:368] Sets are not currently considered sequences, but this may change in the future, so consider avoiding using them.\n"
     ]
    }
   ],
   "source": [
    "model.save(\"hybrid_model_connect4\")"
   ]
  },
  {
   "cell_type": "code",
   "execution_count": null,
   "metadata": {},
   "outputs": [],
   "source": []
  }
 ],
 "metadata": {
  "kernelspec": {
   "display_name": "Python 3 (ipykernel)",
   "language": "python",
   "name": "python3"
  },
  "language_info": {
   "codemirror_mode": {
    "name": "ipython",
    "version": 3
   },
   "file_extension": ".py",
   "mimetype": "text/x-python",
   "name": "python",
   "nbconvert_exporter": "python",
   "pygments_lexer": "ipython3",
   "version": "3.9.10"
  },
  "orig_nbformat": 4
 },
 "nbformat": 4,
 "nbformat_minor": 2
}
