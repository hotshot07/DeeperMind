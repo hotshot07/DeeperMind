{
 "cells": [
  {
   "cell_type": "code",
   "execution_count": 2,
   "id": "1f3b806e",
   "metadata": {},
   "outputs": [],
   "source": [
    "import pandas as pd\n",
    "import numpy as np\n",
    "from sklearn.model_selection import train_test_split\n",
    "import keras\n",
    "import random\n",
    "import csv\n",
    "import ast"
   ]
  },
  {
   "cell_type": "code",
   "execution_count": 3,
   "id": "66f28dbc",
   "metadata": {},
   "outputs": [],
   "source": [
    "df = pd.read_csv('../../data/dfs_moves.csv')"
   ]
  },
  {
   "cell_type": "code",
   "execution_count": 4,
   "id": "8732d92a",
   "metadata": {},
   "outputs": [],
   "source": [
    "df[\"state\"] = df[\"state\"].apply(lambda x: ast.literal_eval(x))"
   ]
  },
  {
   "cell_type": "code",
   "execution_count": 5,
   "id": "a39aa7b7",
   "metadata": {},
   "outputs": [],
   "source": [
    "df[\"action\"] = df[\"action\"].apply(lambda x: np.array(ast.literal_eval(x)))"
   ]
  },
  {
   "cell_type": "code",
   "execution_count": 10,
   "id": "8f4e127f",
   "metadata": {},
   "outputs": [],
   "source": [
    "df = df[:7774]"
   ]
  },
  {
   "cell_type": "code",
   "execution_count": 11,
   "id": "1ea2fc72",
   "metadata": {},
   "outputs": [],
   "source": [
    "train_data_x_label  = df['state']\n",
    "train_data_y_label = df['action']"
   ]
  },
  {
   "cell_type": "code",
   "execution_count": 12,
   "id": "7243469b",
   "metadata": {},
   "outputs": [],
   "source": [
    "train_values = []\n",
    "\n",
    "for x in train_data_x_label.values:\n",
    "    train_values.append(x)\n",
    "\n",
    "train_values = np.array(train_values)"
   ]
  },
  {
   "cell_type": "code",
   "execution_count": 13,
   "id": "ade243cb",
   "metadata": {},
   "outputs": [
    {
     "data": {
      "text/plain": [
       "(7774, 42)"
      ]
     },
     "execution_count": 13,
     "metadata": {},
     "output_type": "execute_result"
    }
   ],
   "source": [
    "train_values.shape"
   ]
  },
  {
   "cell_type": "code",
   "execution_count": 14,
   "id": "52d9d1e9",
   "metadata": {},
   "outputs": [],
   "source": [
    "train_values_y = []\n",
    "\n",
    "for x in train_data_y_label.values:\n",
    "    train_values_y.append(x)\n",
    "\n",
    "train_values_y = np.array(train_values_y)"
   ]
  },
  {
   "cell_type": "code",
   "execution_count": 15,
   "id": "f150786b",
   "metadata": {},
   "outputs": [
    {
     "data": {
      "text/plain": [
       "(7774, 7)"
      ]
     },
     "execution_count": 15,
     "metadata": {},
     "output_type": "execute_result"
    }
   ],
   "source": [
    "train_values_y.shape"
   ]
  },
  {
   "cell_type": "code",
   "execution_count": 16,
   "id": "d1c9014a",
   "metadata": {},
   "outputs": [
    {
     "name": "stderr",
     "output_type": "stream",
     "text": [
      "2022-04-10 02:51:15.607458: I tensorflow/core/common_runtime/pluggable_device/pluggable_device_factory.cc:305] Could not identify NUMA node of platform GPU ID 0, defaulting to 0. Your kernel may not have been built with NUMA support.\n",
      "2022-04-10 02:51:15.607593: I tensorflow/core/common_runtime/pluggable_device/pluggable_device_factory.cc:271] Created TensorFlow device (/job:localhost/replica:0/task:0/device:GPU:0 with 0 MB memory) -> physical PluggableDevice (device: 0, name: METAL, pci bus id: <undefined>)\n"
     ]
    },
    {
     "name": "stdout",
     "output_type": "stream",
     "text": [
      "Metal device set to: Apple M1 Pro\n",
      "\n",
      "systemMemory: 32.00 GB\n",
      "maxCacheSize: 10.67 GB\n",
      "\n",
      "Epoch 1/20\n"
     ]
    },
    {
     "name": "stderr",
     "output_type": "stream",
     "text": [
      "2022-04-10 02:51:16.060301: W tensorflow/core/platform/profile_utils/cpu_utils.cc:128] Failed to get CPU frequency: 0 Hz\n",
      "2022-04-10 02:51:16.175846: I tensorflow/core/grappler/optimizers/custom_graph_optimizer_registry.cc:113] Plugin optimizer for device_type GPU is enabled.\n"
     ]
    },
    {
     "name": "stdout",
     "output_type": "stream",
     "text": [
      "243/243 [==============================] - 4s 8ms/step - loss: 1.1522 - accuracy: 0.7224\n",
      "Epoch 2/20\n",
      "243/243 [==============================] - 2s 7ms/step - loss: 0.4373 - accuracy: 0.8549\n",
      "Epoch 3/20\n",
      "243/243 [==============================] - 2s 7ms/step - loss: 0.3224 - accuracy: 0.8710\n",
      "Epoch 4/20\n",
      "243/243 [==============================] - 2s 7ms/step - loss: 0.2829 - accuracy: 0.8833\n",
      "Epoch 5/20\n",
      "243/243 [==============================] - 2s 7ms/step - loss: 0.2525 - accuracy: 0.9012\n",
      "Epoch 6/20\n",
      "243/243 [==============================] - 2s 7ms/step - loss: 0.2222 - accuracy: 0.9145\n",
      "Epoch 7/20\n",
      "243/243 [==============================] - 2s 7ms/step - loss: 0.1879 - accuracy: 0.9339\n",
      "Epoch 8/20\n",
      "243/243 [==============================] - 2s 7ms/step - loss: 0.1598 - accuracy: 0.9449\n",
      "Epoch 9/20\n",
      "243/243 [==============================] - 2s 7ms/step - loss: 0.1379 - accuracy: 0.9550\n",
      "Epoch 10/20\n",
      "243/243 [==============================] - 2s 7ms/step - loss: 0.1222 - accuracy: 0.9619\n",
      "Epoch 11/20\n",
      "243/243 [==============================] - 2s 7ms/step - loss: 0.1107 - accuracy: 0.9642\n",
      "Epoch 12/20\n",
      "243/243 [==============================] - 2s 7ms/step - loss: 0.1017 - accuracy: 0.9660\n",
      "Epoch 13/20\n",
      "243/243 [==============================] - 2s 7ms/step - loss: 0.0966 - accuracy: 0.9658\n",
      "Epoch 14/20\n",
      "243/243 [==============================] - 2s 7ms/step - loss: 0.0919 - accuracy: 0.9669\n",
      "Epoch 15/20\n",
      "243/243 [==============================] - 2s 7ms/step - loss: 0.0897 - accuracy: 0.9681\n",
      "Epoch 16/20\n",
      "243/243 [==============================] - 2s 7ms/step - loss: 0.0866 - accuracy: 0.9684\n",
      "Epoch 17/20\n",
      "243/243 [==============================] - 2s 7ms/step - loss: 0.0859 - accuracy: 0.9677\n",
      "Epoch 18/20\n",
      "243/243 [==============================] - 2s 7ms/step - loss: 0.0831 - accuracy: 0.9668\n",
      "Epoch 19/20\n",
      "243/243 [==============================] - 2s 7ms/step - loss: 0.0822 - accuracy: 0.9680\n",
      "Epoch 20/20\n",
      "243/243 [==============================] - 2s 7ms/step - loss: 0.0810 - accuracy: 0.9676\n"
     ]
    },
    {
     "data": {
      "text/plain": [
       "<keras.callbacks.History at 0x283e17310>"
      ]
     },
     "execution_count": 16,
     "metadata": {},
     "output_type": "execute_result"
    }
   ],
   "source": [
    "from tensorflow.keras.models import Sequential\n",
    "from tensorflow.keras.layers import Dense, Activation\n",
    "import tensorflow\n",
    "\n",
    "model = Sequential()\n",
    "model.add(Dense(15, input_dim=train_values.shape[1], activation='relu'))\n",
    "model.add(Dense(10, activation='relu'))\n",
    "model.add(Dense(train_values_y.shape[1], activation='softmax'))\n",
    "model.compile(loss='categorical_crossentropy', optimizer=\"adam\", metrics='accuracy')\n",
    "model.fit(train_values,train_values_y,verbose=1,epochs=20)"
   ]
  },
  {
   "cell_type": "code",
   "execution_count": 17,
   "id": "06889ec0",
   "metadata": {},
   "outputs": [
    {
     "name": "stdout",
     "output_type": "stream",
     "text": [
      "INFO:tensorflow:Assets written to: df_neural_agent_connect4/assets\n"
     ]
    },
    {
     "name": "stderr",
     "output_type": "stream",
     "text": [
      "2022-04-10 02:52:16.506501: W tensorflow/python/util/util.cc:368] Sets are not currently considered sequences, but this may change in the future, so consider avoiding using them.\n"
     ]
    }
   ],
   "source": [
    "model.save(\"df_neural_agent_connect4\")"
   ]
  },
  {
   "cell_type": "code",
   "execution_count": null,
   "id": "6c144d1d",
   "metadata": {},
   "outputs": [],
   "source": []
  }
 ],
 "metadata": {
  "interpreter": {
   "hash": "e4ea300f43ed5dc298ec7dac4e1e84827dee6c529d41bba19ebf078b2615c49c"
  },
  "kernelspec": {
   "display_name": "Python 3.9.10 ('env_tf')",
   "language": "python",
   "name": "python3"
  },
  "language_info": {
   "codemirror_mode": {
    "name": "ipython",
    "version": 3
   },
   "file_extension": ".py",
   "mimetype": "text/x-python",
   "name": "python",
   "nbconvert_exporter": "python",
   "pygments_lexer": "ipython3",
   "version": "3.9.10"
  }
 },
 "nbformat": 4,
 "nbformat_minor": 5
}
